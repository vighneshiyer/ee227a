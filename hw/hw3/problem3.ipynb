{
 "cells": [
  {
   "cell_type": "code",
   "execution_count": 1,
   "metadata": {},
   "outputs": [],
   "source": [
    "import numpy as np\n",
    "from matplotlib import pyplot as plt\n",
    "from scipy.optimize import linprog\n",
    "import scipy.optimize as opt\n",
    "import scipy\n",
    "%matplotlib inline"
   ]
  },
  {
   "cell_type": "code",
   "execution_count": 9,
   "metadata": {},
   "outputs": [
    {
     "name": "stdout",
     "output_type": "stream",
     "text": [
      "(8, 22)\n",
      "(22, 14)\n"
     ]
    }
   ],
   "source": [
    "I = 22\n",
    "J = 8\n",
    "J_lookup = {\n",
    "    0: [(1, 1), (5, 1), (6, -1), (10, 1)],\n",
    "    1: [(6, 1), (7, -1), (2, -1), (11, -1)],\n",
    "    2: [(3, 1), (7, 1), (8, -1), (12, 1)],\n",
    "    3: [(4, -1), (8, 1), (9, -1), (13, -1)],\n",
    "    4: [(10, -1), (14, -1), (19, 1), (15, 1)],\n",
    "    5: [(11, 1), (15, -1), (16, 1), (20, -1)],\n",
    "    6: [(12, -1), (16, -1), (17, 1), (21, 1)],\n",
    "    7: [(13, 1), (17, -1), (18, 1), (22, -1)]\n",
    "}\n",
    "A = np.zeros((J, I))\n",
    "for j in range(J):\n",
    "    for (i, val) in J_lookup[j]:\n",
    "        A[j,i-1] = val\n",
    "print(np.shape(A))\n",
    "q = [2047.6, 2046.0, 2002.6, 2036.9, 2013.5,\n",
    "    2021.1, 2027.4, 2047.1, 2020.9, 2049.2,\n",
    "    2015.1, 2035.1, 2033.3, 2027.0, 2034.9,\n",
    "    2033.3, 2008.9, 2006.4, 2050.0, 2008.6,\n",
    "    2001.6, 2028.1]\n",
    "N = (scipy.linalg.null_space(A))\n",
    "print(np.shape(N))"
   ]
  },
  {
   "cell_type": "code",
   "execution_count": 10,
   "metadata": {},
   "outputs": [
    {
     "name": "stdout",
     "output_type": "stream",
     "text": [
      "[1208.69323821 1767.51345581 -860.89380776 1522.45159784 -875.97214974\n",
      " 3221.36721742 3194.08194262  551.24629765 3234.46993025  -90.66538795\n",
      "  855.63278258 4362.14916004 1130.1045423  4125.16538795]\n",
      "[1137.50891932 1390.98449431 1371.28133641 1131.5415509  1103.40891932\n",
      " 3586.20658637  741.06583072 3583.77711269 1115.5415509  1345.28874773\n",
      " 1454.15626134 1471.42994555 1336.69401089 2233.17982841 1734.64840455\n",
      " 2195.02037618 1732.49893087 2215.15245999 1843.82017159 1914.52823296\n",
      " 1933.95139086 1819.34754001]\n",
      "2.008109928812666e-12\n",
      "3546.9021413285463\n"
     ]
    }
   ],
   "source": [
    "z_star = np.dot(np.dot(np.linalg.inv(np.dot(N.T, N)), N.T), q)\n",
    "print(z_star)\n",
    "q_star = np.dot(N, z_star)\n",
    "print(q_star)\n",
    "print(np.linalg.norm(np.dot(A, q_star)))\n",
    "print(np.linalg.norm(q - q_star))"
   ]
  },
  {
   "cell_type": "code",
   "execution_count": 11,
   "metadata": {},
   "outputs": [
    {
     "name": "stdout",
     "output_type": "stream",
     "text": [
      "1.8331451766013172e-12\n",
      "3546.902148694427\n",
      "0.22858721834675316\n"
     ]
    }
   ],
   "source": [
    "res = scipy.optimize.minimize(lambda x: np.linalg.norm(x - q)**2, method='SLSQP', x0 = q, constraints = {\n",
    "    'type': 'eq',\n",
    "    'fun': lambda x: np.dot(A, x)\n",
    "})\n",
    "print(np.linalg.norm(np.dot(A, res.x)))\n",
    "print(np.linalg.norm(q - res.x))\n",
    "print(np.linalg.norm(res.x - q_star))"
   ]
  },
  {
   "cell_type": "code",
   "execution_count": 5,
   "metadata": {},
   "outputs": [
    {
     "name": "stdout",
     "output_type": "stream",
     "text": [
      "1137.508919320243 1371.2813364131339 3586.2065863718854 1734.6484045537036 1819.3475400098991\n"
     ]
    }
   ],
   "source": [
    "print(q_star[0], q_star[2], q_star[5], q_star[14], q_star[21])"
   ]
  },
  {
   "cell_type": "code",
   "execution_count": 14,
   "metadata": {},
   "outputs": [
    {
     "name": "stdout",
     "output_type": "stream",
     "text": [
      "[2027.99999879 2008.00000043 2034.9999992  1224.47183591 2018.99999868\n",
      " 4887.95746125 1342.44541946 4513.36550797 2043.99999951  840.95746462\n",
      " 1537.51204219 1135.92009013 1244.89367338 2043.00000073  853.95746615\n",
      " 1341.44542435 1230.2744971  2030.38082348 2029.9999992  2025.00000039\n",
      " 1247.09101737 2044.99999975]\n",
      "[1137.54054666 1391.07730127 1371.3558991  1131.59313753 1103.410788\n",
      " 3586.27483531  741.04331072 3583.86260257 1115.54879952 1345.32350064\n",
      " 1454.15422332 1471.46339275 1336.72066553 2233.19578875 1734.66255519\n",
      " 2195.06862522 1732.51280106 2215.21249473 1843.85673421 1914.56029335\n",
      " 1934.01921691 1819.4203592 ]\n"
     ]
    }
   ],
   "source": [
    "m = [2028, 2008, 2035, 0, 2019, 0, 0, 0, 2044, 0, 0, 0, 0, 2043, 0, 0, 0, 0, 2030, 2025, 0, 2045]\n",
    "A_m = np.diag([1, 1, 1, 0, 1, 0, 0, 0, 1, 0, 0, 0, 0, 1, 0, 0, 0, 0, 1, 1, 0, 1])\n",
    "res_m = scipy.optimize.minimize(lambda x: np.linalg.norm(x - q)**2, method='SLSQP', x0 = q, constraints = [{\n",
    "    'type': 'eq',\n",
    "    'fun': lambda x: np.dot(A, x)\n",
    "}, {\n",
    "    'type': 'eq',\n",
    "    'fun': lambda x: np.linalg.norm(np.dot(A_m, x) - m)\n",
    "}])\n",
    "print(res_m.x)\n",
    "print(res.x)"
   ]
  },
  {
   "cell_type": "code",
   "execution_count": 15,
   "metadata": {},
   "outputs": [
    {
     "name": "stdout",
     "output_type": "stream",
     "text": [
      "-890.4594521237909 -663.6441001042463 -1301.6826259366453 880.7050890380153 -225.57964055374282\n"
     ]
    }
   ],
   "source": [
    "print(res.x[0] - res_m.x[0], res.x[2] - res_m.x[2], res.x[5] - res_m.x[5], res.x[14] - res_m.x[14], res.x[21] - res_m.x[21])"
   ]
  }
 ],
 "metadata": {
  "anaconda-cloud": {},
  "kernelspec": {
   "display_name": "Python 3",
   "language": "python",
   "name": "python3"
  },
  "language_info": {
   "codemirror_mode": {
    "name": "ipython",
    "version": 3
   },
   "file_extension": ".py",
   "mimetype": "text/x-python",
   "name": "python",
   "nbconvert_exporter": "python",
   "pygments_lexer": "ipython3",
   "version": "3.6.5"
  }
 },
 "nbformat": 4,
 "nbformat_minor": 1
}
