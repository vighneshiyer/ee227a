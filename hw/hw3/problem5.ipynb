{
 "cells": [
  {
   "cell_type": "code",
   "execution_count": 3,
   "metadata": {},
   "outputs": [],
   "source": [
    "import numpy as np\n",
    "from matplotlib import pyplot as plt\n",
    "from scipy.optimize import linprog\n",
    "import scipy.optimize as opt\n",
    "import scipy\n",
    "from scipy.stats import norm as scipy_norm\n",
    "%matplotlib inline\n",
    "import cvxpy as cp\n",
    "from cvxpy.atoms.norm import norm\n",
    "from cvxpy.atoms.affine.sum import sum"
   ]
  },
  {
   "cell_type": "code",
   "execution_count": 25,
   "metadata": {},
   "outputs": [
    {
     "name": "stdout",
     "output_type": "stream",
     "text": [
      "True\n",
      "({'c': array([1., 1., 1., 1., 1., 1., 0., 0., 0., 0., 0.]), 'offset': array([0.]), 'dims': <cvxpy.reductions.solvers.conic_solvers.conic_solver.ConeDims object at 0x7f34e4b3ff28>, 'A': None, 'b': None, 'G': <28x11 sparse matrix of type '<class 'numpy.float64'>'\n",
      "\twith 32 stored elements in Compressed Sparse Column format>, 'h': array([-3.5, -3. , -5. , -4.5, -6. ,  6.5,  5. ,  7. ,  5.5,  8. ,  1. ,\n",
      "       -1. ,  0. ,  1. , -1. ,  0. ,  1. , -1. ,  0. ,  1. , -1. ,  0. ,\n",
      "        1. , -1. , -8. ,  1. , -1. , -8. ])}, <cvxpy.reductions.solvers.solving_chain.SolvingChain object at 0x7f34e4bc5278>, [<cvxpy.reductions.inverse_data.InverseData object at 0x7f34e4ca4e80>, (), <cvxpy.reductions.inverse_data.InverseData object at 0x7f34e4c14588>, {'var_id': 494, 'offset': 0.0, 'eq_constr': [], 'other_constr': [NonPos(Expression(AFFINE, UNKNOWN, (5,))), NonPos(Expression(AFFINE, UNKNOWN, (5,))), SOC(Expression(AFFINE, UNKNOWN, (1,))), SOC(Expression(AFFINE, UNKNOWN, (1,))), SOC(Expression(AFFINE, UNKNOWN, (1,))), SOC(Expression(AFFINE, UNKNOWN, (1,))), SOC(Expression(AFFINE, UNKNOWN, (1,))), SOC(Expression(AFFINE, UNKNOWN, (1,)))]}])\n",
      "\n",
      "ECOS 2.0.4 - (C) embotech GmbH, Zurich Switzerland, 2012-15. Web: www.embotech.com/ECOS\n",
      "\n",
      "It     pcost       dcost      gap   pres   dres    k/t    mu     step   sigma     IR    |   BT\n",
      " 0  +0.000e+00  -1.364e+01  +7e+01  2e-01  1e-01  1e+00  4e+00    ---    ---    1  1  - |  -  - \n",
      " 1  +1.040e+00  -2.205e+00  +2e+01  5e-02  3e-02  7e-01  2e+00  0.7419  1e-01   1  1  1 |  0  0\n",
      " 2  +3.015e+00  +1.969e+00  +8e+00  2e-02  8e-03  4e-01  5e-01  0.7882  1e-01   2  2  2 |  0  0\n",
      " 3  +3.859e+00  +3.504e+00  +3e+00  7e-03  3e-03  2e-01  2e-01  0.9213  3e-01   2  1  1 |  0  0\n",
      " 4  +3.924e+00  +3.577e+00  +2e+00  7e-03  2e-03  2e-01  2e-01  0.2398  6e-01   2  2  2 |  0  0\n",
      " 5  +4.640e+00  +4.581e+00  +4e-01  1e-03  4e-04  2e-02  3e-02  0.9890  2e-01   2  1  1 |  0  0\n",
      " 6  +4.796e+00  +4.790e+00  +4e-02  1e-04  4e-05  2e-03  3e-03  0.9222  3e-02   2  1  1 |  0  0\n",
      " 7  +4.811e+00  +4.810e+00  +4e-03  1e-05  4e-06  2e-04  3e-04  0.9290  3e-02   2  1  1 |  0  0\n",
      " 8  +4.812e+00  +4.812e+00  +7e-05  2e-07  7e-08  4e-06  5e-06  0.9829  1e-04   2  1  1 |  0  0\n",
      " 9  +4.812e+00  +4.812e+00  +3e-06  8e-09  3e-09  2e-07  2e-07  0.9612  2e-04   2  1  1 |  0  0\n",
      "10  +4.812e+00  +4.812e+00  +2e-07  6e-10  2e-10  1e-08  1e-08  0.9284  5e-04   2  1  1 |  0  0\n",
      "11  +4.812e+00  +4.812e+00  +2e-08  6e-11  2e-11  1e-09  1e-09  0.9890  9e-02   2  1  1 |  0  0\n",
      "\n",
      "OPTIMAL (within feastol=5.6e-11, reltol=4.2e-09, abstol=2.0e-08).\n",
      "Runtime: 0.000492 seconds.\n",
      "\n",
      "4.812499991949688\n",
      "[4.37499449 4.74999612 5.12498808 5.5        6.        ]\n"
     ]
    }
   ],
   "source": [
    "x = np.array([0, 4, 8, 12, 16, 20, 24])\n",
    "y = np.array([4, 5, 4, 6, 5, 7, 4])\n",
    "c = np.array([3, 2, 2, 1, 2])\n",
    "y_p = cp.Variable(5)\n",
    "objective = cp.Minimize((y_p[1] - y_p[0])**2 +\n",
    "                        (y_p[2] - y_p[1])**2 + \n",
    "                        (y_p[3] - y_p[2])**2 + \n",
    "                        (y_p[4] - y_p[3])**2 +\n",
    "                        (y_p[0] - y[0])**2 +\n",
    "                        (y_p[4] - y[6])**2)\n",
    "\n",
    "constraints = [y_p >= y[1:-1] - c/2,\n",
    "               y_p <= y[1:-1] + c/2]\n",
    "prob = cp.Problem(objective, constraints)\n",
    "print(objective.is_dcp())\n",
    "print(prob.get_problem_data('ECOS'))\n",
    "\n",
    "# The optimal objective value is returned by `prob.solve()`.\n",
    "result = prob.solve(verbose=True)\n",
    "print(result)\n",
    "# The optimal value for x is stored in `x.value`.\n",
    "print(y_p.value)"
   ]
  },
  {
   "cell_type": "code",
   "execution_count": 140,
   "metadata": {},
   "outputs": [
    {
     "data": {
      "text/plain": [
       "(0.01,\n",
       " -0.09589768646831187,\n",
       " array([0.4       , 0.4       , 0.05      , 0.14658955]))"
      ]
     },
     "execution_count": 140,
     "metadata": {},
     "output_type": "execute_result"
    }
   ],
   "source": [
    "r_hat = np.array([0.12, 0.10, 0.07, 0.03])\n",
    "sigma = np.array([[0.0064, 0.0008, -0.0011, 0],\n",
    "        [0.0008, 0.0025, 0, 0],\n",
    "        [-0.0011, 0, 0.0004, 0],\n",
    "        [0, 0, 0, 0]])\n",
    "sigma_sqrt = scipy.linalg.sqrtm(sigma)\n",
    "epsilon = lambda e: scipy_norm.ppf(e)\n",
    "\n",
    "def solve_this_scipy(e):\n",
    "    res = scipy.optimize.minimize(lambda x: -(np.dot(r_hat, x)), method='SLSQP', \n",
    "                                    x0 = [0.25, 0.25, 0.25, 0.25],\n",
    "                                    bounds = [(0.05, 0.4), (0.05, 0.4), (0.05, 0.4), (0.05, 0.2)],\n",
    "                                    constraints = [{\n",
    "        'type': 'ineq',\n",
    "        'fun': lambda x: -(np.linalg.norm(np.dot(sigma_sqrt, x))*epsilon(10e-4) - (-0.03) + np.dot(r_hat, x))\n",
    "    },\n",
    "    {\n",
    "        'type': 'eq',\n",
    "        'fun': lambda x: np.sum(x) - 1\n",
    "    }])\n",
    "    return (e, res.fun, res.x)\n",
    "solve_this_scipy(10e-3)"
   ]
  },
  {
   "cell_type": "code",
   "execution_count": 143,
   "metadata": {},
   "outputs": [],
   "source": [
    "import cvxpy as cp\n",
    "from cvxpy.atoms.norm import norm\n",
    "from cvxpy.atoms.affine.sum import sum\n",
    "\n",
    "def solve_this(e):\n",
    "    x = cp.Variable(4)\n",
    "    objective = cp.Maximize(r_hat @ x)\n",
    "    constraints = [x >= 0.05,\n",
    "                   x <= 0.4,\n",
    "                   x[3] >= 0.2,\n",
    "                   norm(sigma_sqrt @ x) <= (1/epsilon(e))*(-0.03 - (r_hat @ x)),\n",
    "                   sum(x) == 1]\n",
    "    prob = cp.Problem(objective, constraints)\n",
    "\n",
    "    # The optimal objective value is returned by `prob.solve()`.\n",
    "    result = prob.solve()\n",
    "    #print(result)\n",
    "    # The optimal value for x is stored in `x.value`.\n",
    "    #print(x.value)\n",
    "    return (e, result, x.value)\n",
    "solve_this(10e-4)"
   ]
  },
  {
   "cell_type": "code",
   "execution_count": 144,
   "metadata": {},
   "outputs": [],
   "source": [
    "sols = [solve_this(e) for e in np.logspace(-6, 0, 100)]"
   ]
  },
  {
   "cell_type": "code",
   "execution_count": 145,
   "metadata": {},
   "outputs": [
    {
     "data": {
      "image/png": "[encoded data removed]",
      "text/plain": [
       "<Figure size 432x288 with 1 Axes>"
      ]
     },
     "metadata": {},
     "output_type": "display_data"
    }
   ],
   "source": [
    "sols = list(filter(lambda x: x[1] != float('-inf'), sols))\n",
    "plt.semilogx([x[0] for x in sols], [x[1] for x in sols])\n",
    "plt.xlabel('Epsilon')\n",
    "plt.ylabel('Optimal Expected Return')\n",
    "plt.savefig('problem4_sweep_epsilon.png', dpi=300)"
   ]
  },
  {
   "cell_type": "code",
   "execution_count": 146,
   "metadata": {},
   "outputs": [
    {
     "data": {
      "image/png": "[encoded data removed]",
      "text/plain": [
       "<Figure size 432x288 with 1 Axes>"
      ]
     },
     "metadata": {},
     "output_type": "display_data"
    }
   ],
   "source": [
    "plt.semilogx([x[0] for x in sols], [x[2][0] for x in sols])\n",
    "plt.semilogx([x[0] for x in sols], [x[2][1] for x in sols])\n",
    "plt.semilogx([x[0] for x in sols], [x[2][2] for x in sols])\n",
    "plt.semilogx([x[0] for x in sols], [x[2][3] for x in sols])\n",
    "plt.legend(['1', '2', '3', '4'])\n",
    "plt.xlabel('Epsilon')\n",
    "plt.ylabel('Asset Allocation')\n",
    "plt.savefig('problem4_area_plot.png', dpi=300)"
   ]
  },
  {
   "cell_type": "code",
   "execution_count": 157,
   "metadata": {},
   "outputs": [
    {
     "name": "stdout",
     "output_type": "stream",
     "text": [
      "[[0.17872895 0.07487718 0.06877107 0.03      ]\n",
      " [0.15529328 0.05512308 0.07836715 0.03      ]\n",
      " [0.13925772 0.2196366  0.07056561 0.03      ]\n",
      " ...\n",
      " [0.15457482 0.12632627 0.05629405 0.03      ]\n",
      " [0.15422106 0.09453467 0.05995214 0.03      ]\n",
      " [0.10319449 0.0791406  0.06299822 0.03      ]]\n"
     ]
    },
    {
     "data": {
      "image/png": "[encoded data removed]",
      "text/plain": [
       "<Figure size 432x288 with 1 Axes>"
      ]
     },
     "metadata": {},
     "output_type": "display_data"
    }
   ],
   "source": [
    "x = solve_this(10e-4)[2]\n",
    "r_samps = np.random.multivariate_normal(r_hat, sigma, 1000)\n",
    "plt.hist(np.dot(r_samps, x), 20)\n",
    "plt.xlabel('Expected Return with Optimal Portfolio')\n",
    "plt.ylabel('Count')\n",
    "plt.savefig('problem4_monte_carlo.png', dpi=300)\n",
    "print(r_samps)"
   ]
  },
  {
   "cell_type": "code",
   "execution_count": 166,
   "metadata": {},
   "outputs": [
    {
     "data": {
      "text/plain": [
       "0.013"
      ]
     },
     "execution_count": 166,
     "metadata": {},
     "output_type": "execute_result"
    }
   ],
   "source": [
    "np.mean(np.dot(r_samps, x))\n",
    "\n",
    "len([x for x in np.dot(r_samps, x) if x < 0])\n",
    "13/1000"
   ]
  }
 ],
 "metadata": {
  "anaconda-cloud": {},
  "kernelspec": {
   "display_name": "Python 3",
   "language": "python",
   "name": "python3"
  },
  "language_info": {
   "codemirror_mode": {
    "name": "ipython",
    "version": 3
   },
   "file_extension": ".py",
   "mimetype": "text/x-python",
   "name": "python",
   "nbconvert_exporter": "python",
   "pygments_lexer": "ipython3",
   "version": "3.6.5"
  }
 },
 "nbformat": 4,
 "nbformat_minor": 1
}
