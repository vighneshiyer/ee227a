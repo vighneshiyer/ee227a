{
 "cells": [
  {
   "cell_type": "code",
   "execution_count": null,
   "metadata": {},
   "outputs": [],
   "source": [
    "import numpy as np\n",
    "from matplotlib import pyplot as plt\n",
    "from scipy.optimize import linprog\n",
    "%matplotlib inline"
   ]
  },
  {
   "cell_type": "code",
   "execution_count": null,
   "metadata": {},
   "outputs": [],
   "source": [
    "def print_discrete_prob_distribution(p, color=\"blue\"):\n",
    "    plt.bar(range(l), p, 1, color=color, alpha=1)\n",
    "    plt.ylim(0, 0.5)\n",
    "    plt.show()"
   ]
  },
  {
   "cell_type": "code",
   "execution_count": null,
   "metadata": {},
   "outputs": [],
   "source": [
    "l = 10\n",
    "\n",
    "mu = np.array([0, 0, 0, 0, 4, 5, 8, 10, 13, 10])\n",
    "nu = np.array([14, 15, 16, 10, 4, 1, 0, 0, 0, 0])\n",
    "mu = mu / np.sum(mu)\n",
    "nu = nu / np.sum(nu)"
   ]
  },
  {
   "cell_type": "markdown",
   "metadata": {},
   "source": [
    "### Visualize probability distributions $\\mu$ and $\\nu$"
   ]
  },
  {
   "cell_type": "code",
   "execution_count": null,
   "metadata": {},
   "outputs": [],
   "source": [
    "print(\"mu:\")\n",
    "print_discrete_prob_distribution(mu, color=\"blue\")\n",
    "\n",
    "print(\"nu:\")\n",
    "print_discrete_prob_distribution(nu, color=\"green\")"
   ]
  },
  {
   "cell_type": "markdown",
   "metadata": {},
   "source": [
    "### Euclidean barycenter between $\\mu$ and $\\nu$"
   ]
  },
  {
   "cell_type": "code",
   "execution_count": null,
   "metadata": {},
   "outputs": [],
   "source": [
    "ts = [0, 0.25, 0.5, 0.75, 1]\n",
    "\n",
    "for t in ts:\n",
    "    print(\"barycenter: t=\" + str(t))\n",
    "    print_discrete_prob_distribution(t * mu + (1-t) * nu, color=\"green\")"
   ]
  },
  {
   "cell_type": "markdown",
   "metadata": {},
   "source": [
    "### Compute Wasserstein barycenter between $\\mu$ and $\\nu$"
   ]
  },
  {
   "cell_type": "code",
   "execution_count": null,
   "metadata": {},
   "outputs": [],
   "source": [
    "C = [[0 for _ in range(l)] for _ in range(l)]\n",
    "\n",
    "for i in range(l):\n",
    "    for j in range(l):\n",
    "        C[i][j] = abs(range(l)[i] - range(l)[j])**2"
   ]
  },
  {
   "cell_type": "code",
   "execution_count": null,
   "metadata": {},
   "outputs": [],
   "source": [
    "ts = [0, 0.25, 0.5, 0.75, 1]\n",
    "\n",
    "for t in ts:\n",
    "    # TODO:\n",
    "    # Construct matrix c as: [[  t*c  ]\n",
    "    #                         [(1-t)*c]\n",
    "    #                         [   0   ]]\n",
    "    c = np.array(C).reshape((l**2))\n",
    "\n",
    "    # TODO: \n",
    "    # Construct matrices of ones, A_r and A_t, which when multiplied by P reshaped to lxl vector \n",
    "    # gives us the equality contraints. Where row i of A_r equals sum of entries of P_i \n",
    "    # and row i of A_t equals sum of entries of row i of (P^T). \n",
    "    A_r = np.zeros((l, l, l))\n",
    "    A_t = np.zeros((l, l, l))\n",
    "\n",
    "    # TODO:\n",
    "    # Construct matrix A of form: [[A_t, 0, 0]\n",
    "    #                              [0, A_t, 0]\n",
    "    #                              [A_r, 0,-I]\n",
    "    #                              [0, A_r,-I]]\n",
    "    A_eye = np.eye(l)\n",
    "    A_zero_1 = np.zeros((A_eye.shape))\n",
    "    A_zero_2 = np.zeros((l, l**2))\n",
    "    A = np.zeros((l*4, 2*l**2 + 1))\n",
    "\n",
    "    # Construct vector b as: [mu, nu, 0, 0].T\n",
    "    b_zero = np.zeros(nu.shape)\n",
    "    b = np.concatenate((mu, nu, b_zero, b_zero), axis=0)\n",
    "\n",
    "    # TODO:\n",
    "    # Solve LP with objective c^Tx, constraints Ax = b\n",
    "    x = np.zeros((2*l**2 + l,))\n",
    "  \n",
    "    # Our resulting x = [P_1, P_2, a].T\n",
    "    P_1 = x[:l**2]\n",
    "    P_2 = x[l**2:2*l**2]\n",
    "    a = x[2*l**2:]\n",
    "    \n",
    "    print(\"barycenter: t=\" + str(t))\n",
    "    \n",
    "    # Uncomment this line to visualize barycenter results.\n",
    "    # print_discrete_prob_distribution(a, color=\"green\")"
   ]
  }
 ],
 "metadata": {
  "anaconda-cloud": {},
  "kernelspec": {
   "display_name": "Python 3",
   "language": "python",
   "name": "python3"
  },
  "language_info": {
   "codemirror_mode": {
    "name": "ipython",
    "version": 3
   },
   "file_extension": ".py",
   "mimetype": "text/x-python",
   "name": "python",
   "nbconvert_exporter": "python",
   "pygments_lexer": "ipython3",
   "version": "3.6.5"
  }
 },
 "nbformat": 4,
 "nbformat_minor": 1
}
