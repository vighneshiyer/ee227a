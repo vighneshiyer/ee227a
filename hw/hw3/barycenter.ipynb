{
 "cells": [
  {
   "cell_type": "code",
   "execution_count": 40,
   "metadata": {},
   "outputs": [],
   "source": [
    "import numpy as np\n",
    "from matplotlib import pyplot as plt\n",
    "from scipy.optimize import linprog\n",
    "import scipy.optimize as opt\n",
    "%matplotlib inline"
   ]
  },
  {
   "cell_type": "code",
   "execution_count": 57,
   "metadata": {},
   "outputs": [],
   "source": [
    "def print_discrete_prob_distribution(p, color=\"blue\"):\n",
    "    plt.bar(range(l), p, 1, color=color, alpha=1)\n",
    "    plt.ylim(0, 0.5)\n",
    "    plt.show()"
   ]
  },
  {
   "cell_type": "code",
   "execution_count": 32,
   "metadata": {},
   "outputs": [],
   "source": [
    "l = 10\n",
    "\n",
    "mu = np.array([0, 0, 0, 0, 4, 5, 8, 10, 13, 10])\n",
    "nu = np.array([14, 15, 16, 10, 4, 1, 0, 0, 0, 0])\n",
    "mu = mu / np.sum(mu)\n",
    "nu = nu / np.sum(nu)"
   ]
  },
  {
   "cell_type": "markdown",
   "metadata": {},
   "source": [
    "### Visualize probability distributions $\\mu$ and $\\nu$"
   ]
  },
  {
   "cell_type": "code",
   "execution_count": 70,
   "metadata": {},
   "outputs": [
    {
     "data": {
      "image/png": "[encoded data removed]",
      "text/plain": [
       "<Figure size 936x216 with 2 Axes>"
      ]
     },
     "metadata": {},
     "output_type": "display_data"
    }
   ],
   "source": [
    "#print(\"mu:\")\n",
    "#print_discrete_prob_distribution(mu, color=\"blue\")\n",
    "\n",
    "#print(\"nu:\")\n",
    "#print_discrete_prob_distribution(nu, color=\"green\")\n",
    "\n",
    "fig = plt.figure(figsize=(13,3))\n",
    "axes = fig.subplots(1, 2)\n",
    "axes[0].bar(range(l), mu, 1, color=\"blue\", alpha=1)\n",
    "axes[0].set_ylim(0, 0.5)\n",
    "axes[0].set_title(\"mu\")\n",
    "axes[1].bar(range(l), nu, 1, color=\"green\", alpha=1)\n",
    "axes[1].set_ylim(0, 0.5)\n",
    "axes[1].set_title(\"nu\")\n",
    "plt.savefig('problem1_mu_nu.png', dpi=300)"
   ]
  },
  {
   "cell_type": "markdown",
   "metadata": {},
   "source": [
    "### Euclidean barycenter between $\\mu$ and $\\nu$"
   ]
  },
  {
   "cell_type": "code",
   "execution_count": 71,
   "metadata": {},
   "outputs": [
    {
     "data": {
      "image/png": "[encoded data removed]",
      "text/plain": [
       "<Figure size 1440x216 with 5 Axes>"
      ]
     },
     "metadata": {},
     "output_type": "display_data"
    }
   ],
   "source": [
    "ts = [0, 0.25, 0.5, 0.75, 1]\n",
    "\n",
    "fig = plt.figure(figsize=(20,3))\n",
    "axes = fig.subplots(1, 5)\n",
    "for i, t in enumerate(ts):\n",
    "    #print_discrete_prob_distribution(t * mu + (1-t) * nu, color=\"green\", axes[0, i])\n",
    "    #print(\"barycenter: t=\" + str(t))\n",
    "    axes[i].bar(range(l), t * mu + (1-t) * nu, 1, color=\"green\", alpha=1)\n",
    "    axes[i].set_ylim(0, 0.5)\n",
    "    axes[i].set_title(\"E barycenter: t = {}\".format(t))\n",
    "plt.savefig('problem1_e_barycenter.png', dpi=300)\n",
    "plt.show()"
   ]
  },
  {
   "cell_type": "markdown",
   "metadata": {},
   "source": [
    "### Compute Wasserstein barycenter between $\\mu$ and $\\nu$"
   ]
  },
  {
   "cell_type": "code",
   "execution_count": 37,
   "metadata": {},
   "outputs": [],
   "source": [
    "C = [[0 for _ in range(l)] for _ in range(l)]\n",
    "\n",
    "for i in range(l):\n",
    "    for j in range(l):\n",
    "        C[i][j] = abs(range(l)[i] - range(l)[j])**2"
   ]
  },
  {
   "cell_type": "code",
   "execution_count": 72,
   "metadata": {},
   "outputs": [
    {
     "data": {
      "image/png": "[encoded data removed]",
      "text/plain": [
       "<Figure size 1440x216 with 5 Axes>"
      ]
     },
     "metadata": {},
     "output_type": "display_data"
    }
   ],
   "source": [
    "ts = [0, 0.25, 0.5, 0.75, 1]\n",
    "flatten = lambda l: [item for sublist in l for item in sublist]\n",
    "\n",
    "fig = plt.figure(figsize=(20,3))\n",
    "axes = fig.subplots(1, 5)\n",
    "\n",
    "for i, t in enumerate(ts):\n",
    "    # TODO:\n",
    "    # Construct matrix c as: [[  t*c  ]\n",
    "    #                         [(1-t)*c]\n",
    "    #                         [   0   ]]\n",
    "    c = np.array(C).reshape((l**2))\n",
    "    c = np.hstack((np.multiply(t, c), np.multiply(1-t, c), [0]*l))\n",
    "    \"\"\"\n",
    "    # TODO: \n",
    "    # Construct matrices of ones, A_r and A_t, which when multiplied by P reshaped to lxl vector \n",
    "    # gives us the equality contraints. Where row i of A_r equals sum of entries of P_i \n",
    "    # and row i of A_t equals sum of entries of row i of (P^T). \n",
    "    A_r = np.zeros((l, l, l))\n",
    "    A_t = np.zeros((l, l, l))\n",
    "\n",
    "    # TODO:\n",
    "    # Construct matrix A of form: [[A_t, 0, 0]\n",
    "    #                              [0, A_t, 0]\n",
    "    #                              [A_r, 0,-I]\n",
    "    #                              [0, A_r,-I]]\n",
    "    A_eye = np.eye(l)\n",
    "    A_zero_1 = np.zeros((A_eye.shape))\n",
    "    A_zero_2 = np.zeros((l, l**2))\n",
    "    A = np.zeros((l*4, 2*l**2 + 1))\n",
    "    \"\"\"\n",
    "    # Construct A and b using the 4 constraints\n",
    "    # 1) P' 1_n - x = 0n\n",
    "    A_1_P_template = flatten([[1]*l, [0]*l*(l-1)])\n",
    "    A_1_x_template = flatten([[-1]*1, [0]*(l-1)])\n",
    "    A_1 = np.array([flatten([np.roll(A_1_P_template, l*n), np.zeros(l**2), np.roll(A_1_x_template, n)]) \\\n",
    "           for n in range(l)])\n",
    "    #print(A_1)\n",
    "    \n",
    "    # 2) P'' 1_n - x = 0\n",
    "    A_2 = np.array([flatten([np.zeros(l**2), np.roll(A_1_P_template, l*n), np.roll(A_1_x_template, n)]) \\\n",
    "           for n in range(l)])\n",
    "    #print(A_2)\n",
    "    \n",
    "    # 3) P'^T 1_n = mu\n",
    "    col_template = np.array(flatten([[1], [0]*(l-1)]))\n",
    "    A_3 = np.array([np.append(np.tile(np.roll(col_template, x), l), np.tile([0],l**2+l)) for x in range(l)])\n",
    "    #print(A_3)\n",
    "    \n",
    "    # 4) P''^T 1_n = nu\n",
    "    A_4 = np.array([np.append(np.tile([0], l**2), np.append(np.tile(np.roll(col_template, x), l), np.tile([0], l))) for x in range(l)])\n",
    "    #print(A_4)\n",
    "    \n",
    "    A = np.vstack((A_1, A_2, A_3, A_4))\n",
    "    b = np.append(np.append(np.tile([0], 2*l), mu), nu)\n",
    "    #print(b)\n",
    "    x = opt.linprog(c, A_eq=A, b_eq=b)\n",
    "    #print(x)\n",
    "    P_1 = x.x[:l**2]\n",
    "    P_2 = x.x[l**2:2*l**2]\n",
    "    a = x.x[2*l**2:]\n",
    "    \n",
    "    axes[i].bar(range(l), a, 1, color=\"green\", alpha=1)\n",
    "    axes[i].set_ylim(0, 0.5)\n",
    "    axes[i].set_title(\"W barycenter: t = {}\".format(t))\n",
    "\n",
    "    #print_discrete_prob_distribution(a, color=\"green\")\n",
    "    \"\"\"\n",
    "    # Construct vector b as: [mu, nu, 0, 0].T\n",
    "    b_zero = np.zeros(nu.shape)\n",
    "    b = np.concatenate((mu, nu, b_zero, b_zero), axis=0)\n",
    "\n",
    "    # TODO:\n",
    "    # Solve LP with objective c^Tx, constraints Ax = b\n",
    "    x = np.zeros((2*l**2 + l,))\n",
    "  \n",
    "    # Our resulting x = [P_1, P_2, a].T\n",
    "    P_1 = x[:l**2]\n",
    "    P_2 = x[l**2:2*l**2]\n",
    "    a = x[2*l**2:]\n",
    "    \n",
    "    print(\"barycenter: t=\" + str(t))\n",
    "    \"\"\"\n",
    "plt.savefig('problem1_w_barycenter.png', dpi=300)\n",
    "plt.show()"
   ]
  }
 ],
 "metadata": {
  "anaconda-cloud": {},
  "kernelspec": {
   "display_name": "Python 3",
   "language": "python",
   "name": "python3"
  },
  "language_info": {
   "codemirror_mode": {
    "name": "ipython",
    "version": 3
   },
   "file_extension": ".py",
   "mimetype": "text/x-python",
   "name": "python",
   "nbconvert_exporter": "python",
   "pygments_lexer": "ipython3",
   "version": "3.6.5"
  }
 },
 "nbformat": 4,
 "nbformat_minor": 1
}
