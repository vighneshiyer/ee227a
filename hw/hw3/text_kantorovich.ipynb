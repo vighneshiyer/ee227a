{
 "cells": [
  {
   "cell_type": "markdown",
   "metadata": {},
   "source": [
    "# Kantorovich distance as similiarity between documents"
   ]
  },
  {
   "cell_type": "code",
   "execution_count": 68,
   "metadata": {},
   "outputs": [],
   "source": [
    "from matplotlib import cm\n",
    "import numpy as np\n",
    "import matplotlib.pyplot as plt\n",
    "import scipy.optimize as opt\n",
    "import scipy.spatial as spatial\n",
    "%matplotlib inline\n",
    "\n",
    "document_1 = [\"media\", \"Illinois\", \"speaks\", \"Obama\"]\n",
    "document_2 = [\"President\", \"greets\", \"press\", \"Chicago\"]"
   ]
  },
  {
   "cell_type": "markdown",
   "metadata": {},
   "source": [
    "### Load word embedding dictionary"
   ]
  },
  {
   "cell_type": "code",
   "execution_count": 63,
   "metadata": {},
   "outputs": [
    {
     "name": "stdout",
     "output_type": "stream",
     "text": [
      "[[3.270594, 4.215941, 2.1343176, 3.5777214], [3.755565, 4.7424903, 3.8530126, 2.565475], [3.7756965, 3.4098573, 3.376263, 4.0446653], [3.3538146, 4.7079706, 3.6897867, 3.7211564]]\n"
     ]
    }
   ],
   "source": [
    "word_embedding = np.load(\"word_embedding.npy\").item()\n",
    "\n",
    "def distance(word1, word2):\n",
    "    return np.linalg.norm(word_embedding[word1] - word_embedding[word2])\n",
    "\n",
    "# TODO: Construct C matrix where C_ij = dist(document_1[i], document_2[j]).\n",
    "C = [[distance(document_1[w_1],document_2[w_2]) for w_2 in range(len(document_2))] for w_1 in range(len(document_1))]\n",
    "print(C)"
   ]
  },
  {
   "cell_type": "markdown",
   "metadata": {},
   "source": [
    "### Compute the transportation plan as well as the transportation cost (aka EMD)"
   ]
  },
  {
   "cell_type": "code",
   "execution_count": 64,
   "metadata": {},
   "outputs": [
    {
     "name": "stdout",
     "output_type": "stream",
     "text": [
      "[[1 1 1 1 0 0 0 0 0 0 0 0 0 0 0 0]\n",
      " [0 0 0 0 1 1 1 1 0 0 0 0 0 0 0 0]\n",
      " [0 0 0 0 0 0 0 0 1 1 1 1 0 0 0 0]\n",
      " [0 0 0 0 0 0 0 0 0 0 0 0 1 1 1 1]\n",
      " [1 0 0 0 1 0 0 0 1 0 0 0 1 0 0 0]\n",
      " [0 1 0 0 0 1 0 0 0 1 0 0 0 1 0 0]\n",
      " [0 0 1 0 0 0 1 0 0 0 1 0 0 0 1 0]\n",
      " [0 0 0 1 0 0 0 1 0 0 0 1 0 0 0 1]]\n",
      "[0.25 0.25 0.25 0.25 0.25 0.25 0.25 0.25]\n",
      "EMD: 2.8658661246299744\n",
      "[0.   0.   0.25 0.   0.   0.   0.   0.25 0.   0.25 0.   0.   0.25 0.\n",
      " 0.   0.  ]\n"
     ]
    }
   ],
   "source": [
    "# We assume that the length of document one and two are equal.\n",
    "l = len(document_1)\n",
    "\n",
    "# Compute normalized frequency vectors for sentence one and two. \n",
    "mu = [1. / l for _ in range(l)]\n",
    "nu = [1. / l for _ in range(l)]\n",
    "\n",
    "# To formulate and solve the LP, the C and P matrices need to reshaped\n",
    "# to vectors of length lxl\n",
    "c = np.array(C).reshape((l**2))\n",
    "\n",
    "# Construct matrices of ones, A_r and A_t, which when multiplied by P \n",
    "# reshaped to lxl vector gives us the equality contraints.\n",
    "# Where row i of A_r equals sum of entries of P_i and row i of A_t\n",
    "# equals sum of entries of row i of (P^T). \n",
    "#A_r = np.zeros((l, l, l))\n",
    "#A_t = np.zeros((l, l, l))\n",
    "flatten = lambda l: [item for sublist in l for item in sublist]\n",
    "A_top_1 = np.array(flatten([[1]*l, [0]*l*(l-1)]))\n",
    "A_top = np.array([np.roll(A_top_1, n*l) for n in range(l)])\n",
    "A_bot_1_bit = flatten([[1], [0]*(l-1)])\n",
    "A_bot = np.array([np.tile(np.roll(A_bot_1_bit, n), l) for n in range(l)])\n",
    "A = np.vstack((A_top, A_bot))\n",
    "print(A)\n",
    "b = np.hstack((mu,nu))\n",
    "print(b)\n",
    "\n",
    "# TODO: Solve LP with objective C^Tx, constraints Ax = b.\n",
    "x = opt.linprog(c, A_eq=A, b_eq=b)\n",
    "P = np.reshape(x.x, (l,l))\n",
    "emd = x.fun\n",
    "\n",
    "print(\"EMD: \" + str(emd))\n",
    "print(x.x)"
   ]
  },
  {
   "cell_type": "code",
   "execution_count": 65,
   "metadata": {},
   "outputs": [
    {
     "name": "stdout",
     "output_type": "stream",
     "text": [
      "Visualize P transportation plan: \n"
     ]
    },
    {
     "data": {
      "image/png": "[encoded data removed]",
      "text/plain": [
       "<Figure size 432x288 with 1 Axes>"
      ]
     },
     "metadata": {},
     "output_type": "display_data"
    }
   ],
   "source": [
    "print(\"Visualize P transportation plan: \")\n",
    "\n",
    "fig = plt.figure()\n",
    "ax = fig.add_subplot(111)\n",
    "ax.matshow(P)\n",
    "\n",
    "# We want to show all ticks\n",
    "ax.set_xticks(np.arange(len(document_1)))\n",
    "ax.set_yticks(np.arange(len(document_2)))\n",
    "\n",
    "ax.set_xticklabels(document_2)\n",
    "ax.set_yticklabels(document_1)\n",
    "plt.savefig('kantorovich_plan.png', dpi=300)\n",
    "plt.show()"
   ]
  },
  {
   "cell_type": "code",
   "execution_count": 73,
   "metadata": {},
   "outputs": [
    {
     "data": {
      "text/plain": [
       "0.0"
      ]
     },
     "execution_count": 73,
     "metadata": {},
     "output_type": "execute_result"
    }
   ],
   "source": [
    "document_1_word_vec = [1, 1, 1, 1, 0, 0, 0, 0]\n",
    "document_2_word_vec = [0, 0, 0, 0, 1, 1, 1, 1]\n",
    "np.dot(document_1_word_vec, document_2_word_vec) / (np.linalg.norm(document_1_word_vec) * np.linalg.norm(document_2_word_vec))"
   ]
  }
 ],
 "metadata": {
  "anaconda-cloud": {},
  "kernelspec": {
   "display_name": "Python 3",
   "language": "python",
   "name": "python3"
  },
  "language_info": {
   "codemirror_mode": {
    "name": "ipython",
    "version": 3
   },
   "file_extension": ".py",
   "mimetype": "text/x-python",
   "name": "python",
   "nbconvert_exporter": "python",
   "pygments_lexer": "ipython3",
   "version": "3.6.5"
  }
 },
 "nbformat": 4,
 "nbformat_minor": 1
}
