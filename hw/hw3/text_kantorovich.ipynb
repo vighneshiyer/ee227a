{
 "cells": [
  {
   "cell_type": "markdown",
   "metadata": {},
   "source": [
    "# Kantorovich distance as similiarity between documents"
   ]
  },
  {
   "cell_type": "code",
   "execution_count": 1,
   "metadata": {},
   "outputs": [],
   "source": [
    "from matplotlib import cm\n",
    "import numpy as np\n",
    "import matplotlib.pyplot as plt\n",
    "%matplotlib inline\n",
    "\n",
    "document_1 = [\"media\", \"Illinois\", \"speaks\", \"Obama\"]\n",
    "document_2 = [\"President\", \"greets\", \"press\", \"Chicago\"]"
   ]
  },
  {
   "cell_type": "markdown",
   "metadata": {},
   "source": [
    "### Load word embedding dictionary"
   ]
  },
  {
   "cell_type": "code",
   "execution_count": 2,
   "metadata": {},
   "outputs": [],
   "source": [
    "word_embedding = np.load(\"word_embedding.npy\").item()\n",
    "\n",
    "def distance(word1, word2):\n",
    "    return np.linalg.norm(word_embedding[word1] - word_embedding[word2])\n",
    "\n",
    "# TODO: Construct C matrix where C_ij = dist(document_1[i], document_2[j]).\n",
    "C = [[0 for _ in range(len(document_2))] for _ in range(len(document_1))]"
   ]
  },
  {
   "cell_type": "markdown",
   "metadata": {},
   "source": [
    "### Compute the transportation plan as well as the transportation cost (aka EMD)"
   ]
  },
  {
   "cell_type": "code",
   "execution_count": 3,
   "metadata": {},
   "outputs": [
    {
     "name": "stdout",
     "output_type": "stream",
     "text": [
      "EMD: 0\n"
     ]
    }
   ],
   "source": [
    "# We assume that the length of document one and two are equal.\n",
    "l = len(document_1)\n",
    "\n",
    "# Compute normalized frequency vectors for sentence one and two. \n",
    "mu = [1. / l for _ in range(l)]\n",
    "nu = [1. / l for _ in range(l)]\n",
    "\n",
    "# To formulate and solve the LP, the C and P matrices need to reshaped\n",
    "# to vectors of length lxl\n",
    "c = np.array(C).reshape((l**2))\n",
    "\n",
    "# Construct matrices of ones, A_r and A_t, which when multiplied by P \n",
    "# reshaped to lxl vector gives us the equality contraints.\n",
    "# Where row i of A_r equals sum of entries of P_i and row i of A_t\n",
    "# equals sum of entries of row i of (P^T). \n",
    "A_r = np.zeros((l, l, l))\n",
    "A_t = np.zeros((l, l, l))\n",
    "\n",
    "# TODO: Solve LP with objective C^Tx, constraints Ax = b.\n",
    "P = np.zeros((l,l))\n",
    "emd = 0\n",
    "\n",
    "print(\"EMD: \" + str(emd))"
   ]
  },
  {
   "cell_type": "code",
   "execution_count": 4,
   "metadata": {},
   "outputs": [
    {
     "name": "stdout",
     "output_type": "stream",
     "text": [
      "Visualize P transportation plan: \n"
     ]
    },
    {
     "data": {
      "image/png": "[encoded data removed]",
      "text/plain": [
       "<Figure size 432x288 with 1 Axes>"
      ]
     },
     "metadata": {},
     "output_type": "display_data"
    }
   ],
   "source": [
    "print(\"Visualize P transportation plan: \")\n",
    "\n",
    "fig = plt.figure()\n",
    "ax = fig.add_subplot(111)\n",
    "ax.matshow(P)\n",
    "\n",
    "# We want to show all ticks\n",
    "ax.set_xticks(np.arange(len(document_1)))\n",
    "ax.set_yticks(np.arange(len(document_2)))\n",
    "\n",
    "ax.set_xticklabels(document_2)\n",
    "ax.set_yticklabels(document_1)\n",
    "\n",
    "plt.show()"
   ]
  }
 ],
 "metadata": {
  "anaconda-cloud": {},
  "kernelspec": {
   "display_name": "Python 3",
   "language": "python",
   "name": "python3"
  },
  "language_info": {
   "codemirror_mode": {
    "name": "ipython",
    "version": 3
   },
   "file_extension": ".py",
   "mimetype": "text/x-python",
   "name": "python",
   "nbconvert_exporter": "python",
   "pygments_lexer": "ipython3",
   "version": "3.6.5"
  }
 },
 "nbformat": 4,
 "nbformat_minor": 1
}
