{
 "cells": [
  {
   "cell_type": "code",
   "execution_count": 2,
   "metadata": {},
   "outputs": [],
   "source": [
    "import numpy as np"
   ]
  },
  {
   "cell_type": "code",
   "execution_count": 3,
   "metadata": {},
   "outputs": [],
   "source": [
    "# aid, kill, deal, president, tax, china\n",
    "a = np.array([1, 2, 0, 0, 0, 0])\n",
    "b = np.array([1, 0, 3, 2, 4, 0])\n",
    "c = np.array([0, 0, 0, 2, 0, 2])\n",
    "d = np.array([0, 0, 0, 0, 0, 1])"
   ]
  },
  {
   "cell_type": "code",
   "execution_count": 15,
   "metadata": {},
   "outputs": [
    {
     "name": "stdout",
     "output_type": "stream",
     "text": [
      "(a,a):\n",
      "0.9999999999999998\n",
      "(a,b):\n",
      "0.0816496580927726\n",
      "(a,c):\n",
      "0.0\n",
      "(a,d):\n",
      "0.0\n",
      "(b,b):\n",
      "1.0\n",
      "(b,c):\n",
      "0.2581988897471611\n",
      "(b,d):\n",
      "0.0\n",
      "(c,c):\n",
      "0.9999999999999998\n",
      "(c,d):\n",
      "0.7071067811865475\n",
      "(d,d):\n",
      "1.0\n"
     ]
    }
   ],
   "source": [
    "pairs = [\n",
    "    (a,a),(a,b),(a,c),(a,d),\n",
    "    (b,b),(b,c),(b,d),(c,c),(c,d),(d,d)\n",
    "]\n",
    "pairs_eng = [\n",
    "    '(a,a)','(a,b)','(a,c)','(a,d)',\n",
    "    '(b,b)', '(b,c)','(b,d)','(c,c)','(c,d)','(d,d)'\n",
    "]\n",
    "for ((x,y),eng) in zip(pairs,pairs_eng):\n",
    "    print(eng + \":\")\n",
    "    print(np.dot(x.T, y) / (np.linalg.norm(x,2) * np.linalg.norm(y,2)))"
   ]
  }
 ],
 "metadata": {
  "kernelspec": {
   "display_name": "Python 3",
   "language": "python",
   "name": "python3"
  },
  "language_info": {
   "codemirror_mode": {
    "name": "ipython",
    "version": 3
   },
   "file_extension": ".py",
   "mimetype": "text/x-python",
   "name": "python",
   "nbconvert_exporter": "python",
   "pygments_lexer": "ipython3",
   "version": "3.6.5"
  }
 },
 "nbformat": 4,
 "nbformat_minor": 2
}
