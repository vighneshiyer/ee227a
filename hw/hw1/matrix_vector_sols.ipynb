{
 "cells": [
  {
   "cell_type": "markdown",
   "metadata": {},
   "source": [
    "# Main Idea"
   ]
  },
  {
   "cell_type": "markdown",
   "metadata": {},
   "source": [
    "Denote the average of the row $r_{avg}$. The operation we want to perform would be\n",
    "\n",
    "$$ (C - R_{avg}) w$$\n",
    "\n",
    "where $R_{avg}$ is the matrix obtained by stacking $r_{avg}$.\n",
    "\n",
    "Navie implementation would be directly computing $C_m = C - R_{avg}$ and then right multiply it by the vector $w$.\n",
    "\n",
    "A more efficient approach would be to distribute the multiplication. $C w$ is easier to compute because of sparsity, and $R_{avg}w$ is simply a vector full of $r_{avg} \\cdot w$.\n",
    "\n",
    "**Speed Gain**: since the operations are in the order of $O(NK)$ and the density $d$ represents how much fewer operations we need, we expect the speed gain to be $O(NKd)$"
   ]
  },
  {
   "cell_type": "code",
   "execution_count": 11,
   "metadata": {},
   "outputs": [],
   "source": [
    "import numpy as np\n",
    "import time\n",
    "from scipy.sparse import csr_matrix\n",
    "import scipy as sp"
   ]
  },
  {
   "cell_type": "code",
   "execution_count": 2,
   "metadata": {},
   "outputs": [],
   "source": [
    "lmbda = 0.1\n",
    "K = 10000\n",
    "N = 10000\n",
    "dims = [N, K]"
   ]
  },
  {
   "cell_type": "markdown",
   "metadata": {},
   "source": [
    "Generate sparse matrix using poisson distribution"
   ]
  },
  {
   "cell_type": "code",
   "execution_count": 3,
   "metadata": {
    "scrolled": true
   },
   "outputs": [],
   "source": [
    "# in dense matrix format, no performance improvement\n",
    "C = np.random.poisson(lmbda, dims)\n",
    "\n",
    "# in sparse matrix format, certain operations should be faster\n",
    "C_sparse = csr_matrix(C)\n",
    "\n",
    "# average of the rows of C\n",
    "r_avg = np.mean(C, axis=0)\n",
    "\n",
    "# w, in this case we use the one vector\n",
    "w = np.ones(K)"
   ]
  },
  {
   "cell_type": "code",
   "execution_count": 10,
   "metadata": {},
   "outputs": [
    {
     "name": "stdout",
     "output_type": "stream",
     "text": [
      "9511194\n"
     ]
    }
   ],
   "source": [
    "print(np.count_nonzero(C_sparse.toarray()))"
   ]
  },
  {
   "cell_type": "code",
   "execution_count": 14,
   "metadata": {},
   "outputs": [
    {
     "name": "stdout",
     "output_type": "stream",
     "text": [
      "The sparsity is around 0.09511194\n"
     ]
    }
   ],
   "source": [
    "print(\"The sparsity is around\", np.count_nonzero(C_sparse.toarray()) / N / K)"
   ]
  },
  {
   "cell_type": "markdown",
   "metadata": {},
   "source": [
    "## Naive implementation:"
   ]
  },
  {
   "cell_type": "code",
   "execution_count": 15,
   "metadata": {},
   "outputs": [
    {
     "name": "stdout",
     "output_type": "stream",
     "text": [
      "CPU times: user 574 ms, sys: 1.16 s, total: 1.73 s\n",
      "Wall time: 2.14 s\n"
     ]
    },
    {
     "data": {
      "text/plain": [
       "array([  8.6502,   7.6502, -17.3498, ..., -38.3498,  26.6502, -49.3498])"
      ]
     },
     "execution_count": 15,
     "metadata": {},
     "output_type": "execute_result"
    }
   ],
   "source": [
    "# The jupyter-notebook's magic commands, %t expr,\n",
    "# will print the amount of time needed to evaluate expr\n",
    "%time (C - r_avg) @ w"
   ]
  },
  {
   "cell_type": "markdown",
   "metadata": {},
   "source": [
    "## Efficient implementation but on dense matrix:"
   ]
  },
  {
   "cell_type": "code",
   "execution_count": 16,
   "metadata": {},
   "outputs": [
    {
     "name": "stdout",
     "output_type": "stream",
     "text": [
      "CPU times: user 321 ms, sys: 316 ms, total: 636 ms\n",
      "Wall time: 602 ms\n"
     ]
    },
    {
     "data": {
      "text/plain": [
       "array([  8.6502,   7.6502, -17.3498, ..., -38.3498,  26.6502, -49.3498])"
      ]
     },
     "execution_count": 16,
     "metadata": {},
     "output_type": "execute_result"
    }
   ],
   "source": [
    "%time C @ w - np.dot(r_avg, w)"
   ]
  },
  {
   "cell_type": "markdown",
   "metadata": {},
   "source": [
    "## Efficient implementation but on sparse matrix:"
   ]
  },
  {
   "cell_type": "code",
   "execution_count": 17,
   "metadata": {},
   "outputs": [
    {
     "name": "stdout",
     "output_type": "stream",
     "text": [
      "CPU times: user 36.6 ms, sys: 41.9 ms, total: 78.5 ms\n",
      "Wall time: 79.1 ms\n"
     ]
    },
    {
     "data": {
      "text/plain": [
       "array([  8.6502,   7.6502, -17.3498, ..., -38.3498,  26.6502, -49.3498])"
      ]
     },
     "execution_count": 17,
     "metadata": {},
     "output_type": "execute_result"
    }
   ],
   "source": [
    "# %time C_sparse @ v - v.sum() * c_avg\n",
    "%time C_sparse @ w - np.dot(r_avg, w)"
   ]
  },
  {
   "cell_type": "markdown",
   "metadata": {},
   "source": [
    "## Conclusion"
   ]
  },
  {
   "cell_type": "markdown",
   "metadata": {},
   "source": [
    "We can see that the naive implementation is the slowest because of \n",
    "1. centering (subtracting from $c_{avg}$ takes $O(NK)$ in runtime)\n",
    "2. multiplication (also $O(NK)$ in runtime)\n",
    "\n",
    "In the efficient implementation on dense matrix, by distributing the multiplication, we can simplify the operation on $\\left[ c_{avg} ... c_{avg} \\right] v$, but $Cv$ is still slow because of dense matrix.\n",
    "\n",
    "In the efficient implementation on the sparse matrix, now both operations have been **optimized**."
   ]
  },
  {
   "cell_type": "code",
   "execution_count": null,
   "metadata": {
    "collapsed": true
   },
   "outputs": [],
   "source": []
  }
 ],
 "metadata": {
  "kernelspec": {
   "display_name": "Python 3",
   "language": "python",
   "name": "python3"
  },
  "language_info": {
   "codemirror_mode": {
    "name": "ipython",
    "version": 3
   },
   "file_extension": ".py",
   "mimetype": "text/x-python",
   "name": "python",
   "nbconvert_exporter": "python",
   "pygments_lexer": "ipython3",
   "version": "3.6.4"
  }
 },
 "nbformat": 4,
 "nbformat_minor": 2
}
