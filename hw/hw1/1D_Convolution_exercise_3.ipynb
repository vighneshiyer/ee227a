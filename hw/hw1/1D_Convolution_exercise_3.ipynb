{
 "cells": [
  {
   "cell_type": "code",
   "execution_count": 8,
   "metadata": {},
   "outputs": [],
   "source": [
    "import sympy\n",
    "from sympy import MatrixSymbol, Matrix\n",
    "sympy.init_printing()"
   ]
  },
  {
   "cell_type": "code",
   "execution_count": 14,
   "metadata": {},
   "outputs": [
    {
     "data": {
      "image/png": "[encoded data removed]",
      "text/latex": [
       "$$\\left[\\begin{array}{c}p_{0, 0}\\\\p_{1, 0}\\\\p_{2, 0}\\end{array}\\right]$$"
      ],
      "text/plain": [
       "⎡p₀₀⎤\n",
       "⎢   ⎥\n",
       "⎢p₁₀⎥\n",
       "⎢   ⎥\n",
       "⎣p₂₀⎦"
      ]
     },
     "metadata": {},
     "output_type": "display_data"
    },
    {
     "data": {
      "image/png": "[encoded data removed]",
      "text/latex": [
       "$$\\left[\\begin{array}{c}q_{0, 0}\\\\q_{1, 0}\\\\q_{2, 0}\\end{array}\\right]$$"
      ],
      "text/plain": [
       "⎡q₀₀⎤\n",
       "⎢   ⎥\n",
       "⎢q₁₀⎥\n",
       "⎢   ⎥\n",
       "⎣q₂₀⎦"
      ]
     },
     "metadata": {},
     "output_type": "display_data"
    },
    {
     "data": {
      "image/png": "[encoded data removed]",
      "text/latex": [
       "$$\\left[\\begin{matrix}p_{0, 0} q_{0, 0} & p_{0, 0} q_{1, 0} & p_{0, 0} q_{2, 0}\\\\p_{1, 0} q_{0, 0} & p_{1, 0} q_{1, 0} & p_{1, 0} q_{2, 0}\\\\p_{2, 0} q_{0, 0} & p_{2, 0} q_{1, 0} & p_{2, 0} q_{2, 0}\\end{matrix}\\right]$$"
      ],
      "text/plain": [
       "⎡p₀₀⋅q₀₀  p₀₀⋅q₁₀  p₀₀⋅q₂₀⎤\n",
       "⎢                         ⎥\n",
       "⎢p₁₀⋅q₀₀  p₁₀⋅q₁₀  p₁₀⋅q₂₀⎥\n",
       "⎢                         ⎥\n",
       "⎣p₂₀⋅q₀₀  p₂₀⋅q₁₀  p₂₀⋅q₂₀⎦"
      ]
     },
     "metadata": {},
     "output_type": "display_data"
    }
   ],
   "source": [
    "p = Matrix(MatrixSymbol('p', 3, 1))\n",
    "display(p)\n",
    "q = Matrix(MatrixSymbol('q', 3, 1))\n",
    "display(q)\n",
    "display(p * q.T)"
   ]
  },
  {
   "cell_type": "code",
   "execution_count": 20,
   "metadata": {},
   "outputs": [
    {
     "data": {
      "image/png": "[encoded data removed]",
      "text/latex": [
       "$$\\left[\\begin{matrix}1 & 0 & 0\\\\1 & 1 & 1\\\\1 & 1 & 1\\end{matrix}\\right]$$"
      ],
      "text/plain": [
       "⎡1  0  0⎤\n",
       "⎢       ⎥\n",
       "⎢1  1  1⎥\n",
       "⎢       ⎥\n",
       "⎣1  1  1⎦"
      ]
     },
     "metadata": {},
     "output_type": "display_data"
    },
    {
     "data": {
      "image/png": "[encoded data removed]",
      "text/latex": [
       "$$\\left[\\begin{matrix}p_{0, 0} + p_{1, 0} + p_{2, 0} & p_{1, 0} + p_{2, 0} & p_{1, 0} + p_{2, 0}\\end{matrix}\\right]$$"
      ],
      "text/plain": [
       "[p₀₀ + p₁₀ + p₂₀  p₁₀ + p₂₀  p₁₀ + p₂₀]"
      ]
     },
     "metadata": {},
     "output_type": "display_data"
    }
   ],
   "source": [
    "T = Matrix([[1, 0, 0], [1, 1, 1], [1, 1, 1]])\n",
    "display(T)\n",
    "#display((p * q.T) * T)\n",
    "display(p.T * T)"
   ]
  },
  {
   "cell_type": "code",
   "execution_count": 31,
   "metadata": {},
   "outputs": [
    {
     "data": {
      "text/plain": [
       "array([0.1, 0.5, 1. , 1.2, 2.1, 4.8, 5.7, 3. , 1.2, 1.1, 0.7, 0.2])"
      ]
     },
     "execution_count": 31,
     "metadata": {},
     "output_type": "execute_result"
    }
   ],
   "source": [
    "import numpy as np\n",
    "g = np.array([0.1, 0.4, 0.5, 0.2])\n",
    "r = np.array([1, 1, 1, 1, 10, 1, 1, 1, 1])\n",
    "h = np.convolve(g, r)\n",
    "h"
   ]
  }
 ],
 "metadata": {
  "kernelspec": {
   "display_name": "Python 3",
   "language": "python",
   "name": "python3"
  },
  "language_info": {
   "codemirror_mode": {
    "name": "ipython",
    "version": 3
   },
   "file_extension": ".py",
   "mimetype": "text/x-python",
   "name": "python",
   "nbconvert_exporter": "python",
   "pygments_lexer": "ipython3",
   "version": "3.6.5"
  }
 },
 "nbformat": 4,
 "nbformat_minor": 2
}
