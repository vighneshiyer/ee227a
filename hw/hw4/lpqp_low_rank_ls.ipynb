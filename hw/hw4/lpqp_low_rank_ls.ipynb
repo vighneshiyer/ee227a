{
 "cells": [
  {
   "cell_type": "markdown",
   "metadata": {},
   "source": [
    "# Exact low rank data "
   ]
  },
  {
   "cell_type": "markdown",
   "metadata": {},
   "source": [
    "This is the template code to get you started. You should fill out the code for 2 places:\n",
    "1. direct_solver\n",
    "2. low_rank_solver\n",
    "\n",
    "Feel help to write any additional functions and helper code. Note that the data matrix is a 1000 by 1000 matrix with rank 10."
   ]
  },
  {
   "cell_type": "code",
   "execution_count": 12,
   "metadata": {},
   "outputs": [],
   "source": [
    "import numpy as np\n",
    "import scipy.io as sio\n",
    "import scipy"
   ]
  },
  {
   "cell_type": "code",
   "execution_count": 79,
   "metadata": {
    "scrolled": true
   },
   "outputs": [
    {
     "name": "stdout",
     "output_type": "stream",
     "text": [
      "1000 1000\n",
      "(1000, 10)\n",
      "(1000, 10)\n"
     ]
    }
   ],
   "source": [
    "def rank_decompose(A, r):\n",
    "    U, s, Vh = np.linalg.svd(A, full_matrices=False)\n",
    "    return U[:,:r], s[:r], Vh[:r, :]\n",
    "\n",
    "data = sio.loadmat('low_rank_mtx.mat')\n",
    "A = data['predictors']\n",
    "y = data['responses'].T\n",
    "lmbda = data['penalty_param']\n",
    "\n",
    "m, n = A.shape\n",
    "\n",
    "U, s, Vh = rank_decompose(A, np.linalg.matrix_rank(A))\n",
    "L = U * s\n",
    "R = Vh.T\n",
    "print(m,n)\n",
    "print(L.shape)\n",
    "print(R.shape)"
   ]
  },
  {
   "cell_type": "code",
   "execution_count": 70,
   "metadata": {},
   "outputs": [],
   "source": [
    "def direct_solver(A, y, lmbda):\n",
    "    '''\n",
    "    Takes in the data matrix A and vector y, scalar lmbda\n",
    "    and returns the minimizer for the regularized LS problem\n",
    "    '''\n",
    "    return np.linalg.inv((A.T @ A) + np.diag(np.repeat(lmbda, n))) @ A.T @ y"
   ]
  },
  {
   "cell_type": "code",
   "execution_count": 76,
   "metadata": {},
   "outputs": [],
   "source": [
    "def low_rank_solver(L, R, y, lmbda):\n",
    "    '''\n",
    "    Takes in the matrices L and R, with LR^T = A, scalar lmbda,\n",
    "    and vector y, and returns the minimizer for the low rank\n",
    "    regularized LS problem\n",
    "    '''\n",
    "    A = (L @ R.T) @ R\n",
    "    int_sol = np.linalg.inv((A.T @ A) + np.diag(np.repeat(lmbda, L.shape[1]))) @ A.T @ y\n",
    "    return R @ int_sol"
   ]
  },
  {
   "cell_type": "code",
   "execution_count": 77,
   "metadata": {},
   "outputs": [
    {
     "name": "stdout",
     "output_type": "stream",
     "text": [
      "Direct solver:\n",
      "CPU times: user 579 ms, sys: 8.28 ms, total: 587 ms\n",
      "Wall time: 101 ms\n",
      "\n",
      "Low rank solver\n",
      "CPU times: user 11.2 ms, sys: 3.4 ms, total: 14.6 ms\n",
      "Wall time: 1.88 ms\n"
     ]
    }
   ],
   "source": [
    "# compare their runtime\n",
    "print('Direct solver:')\n",
    "%time soln_direct = direct_solver(A, y, lmbda)\n",
    "\n",
    "print('\\nLow rank solver')\n",
    "%time soln_low_rank = low_rank_solver(L, R, y, lmbda)"
   ]
  },
  {
   "cell_type": "code",
   "execution_count": 78,
   "metadata": {},
   "outputs": [
    {
     "data": {
      "text/plain": [
       "3.7918204918615135e-12"
      ]
     },
     "execution_count": 78,
     "metadata": {},
     "output_type": "execute_result"
    }
   ],
   "source": [
    "# check their solutions to be the same (less than 1e-5 is great !)\n",
    "np.median(np.abs(soln_direct - soln_low_rank) / np.abs(soln_direct))"
   ]
  },
  {
   "cell_type": "markdown",
   "metadata": {},
   "source": [
    "# Approximate low rank data"
   ]
  },
  {
   "cell_type": "markdown",
   "metadata": {},
   "source": [
    "For this part, fill out solve_with_rank_r to solve the regularized least square problem by approximating the data matrix with various low rank matrix. Then plot the ranks against the squared error."
   ]
  },
  {
   "cell_type": "code",
   "execution_count": 80,
   "metadata": {},
   "outputs": [],
   "source": [
    "from scipy.stats import ortho_group\n",
    "import matplotlib.pyplot as plt\n",
    "import math\n",
    "import scipy.io as sio\n",
    "import numpy as np\n",
    "import time\n",
    "%matplotlib inline"
   ]
  },
  {
   "cell_type": "code",
   "execution_count": 81,
   "metadata": {},
   "outputs": [],
   "source": [
    "# load in the prepared data\n",
    "data = sio.loadmat('low_rank_mtx.mat')\n",
    "A_approx = data['approx_mtx']\n",
    "n = A_approx.shape[0]\n",
    "y_appox = data['approx_responses'].T\n",
    "lmbda = data['penalty_param'][0][0]"
   ]
  },
  {
   "cell_type": "code",
   "execution_count": 82,
   "metadata": {},
   "outputs": [],
   "source": [
    "def error_fn(A, x, y, lmbda):\n",
    "    return np.linalg.norm(A @ x - y)**2 + lmbda * np.linalg.norm(x)**2\n",
    "\n",
    "def rank_decompose(A, r):\n",
    "    U, s, Vh = np.linalg.svd(A, full_matrices=False)\n",
    "    return U[:,:r], s[:r], Vh[:r, :]\n",
    "\n",
    "def rank_decompose_LR(A, r):\n",
    "    U, s, Vh = rank_decompose(A, r)\n",
    "    return U * s, Vh"
   ]
  },
  {
   "cell_type": "code",
   "execution_count": 83,
   "metadata": {},
   "outputs": [],
   "source": [
    "def solve_with_rank_r(A, y, lmbda, r):\n",
    "\n",
    "    # decompose A\n",
    "    L, RT = rank_decompose_LR(A, r)\n",
    "    R = RT.T\n",
    "    \n",
    "    #solve using reduced lr method\n",
    "    soln = low_rank_solver(L, R, y, lmbda)\n",
    "    \n",
    "    # compute error\n",
    "    error = error_fn(A, soln, y, lmbda)\n",
    "    \n",
    "    return error"
   ]
  },
  {
   "cell_type": "code",
   "execution_count": 85,
   "metadata": {},
   "outputs": [
    {
     "data": {
      "image/png": "[encoded data removed]",
      "text/plain": [
       "<Figure size 432x288 with 1 Axes>"
      ]
     },
     "metadata": {},
     "output_type": "display_data"
    }
   ],
   "source": [
    "rank_lst = [int(i) for i in np.linspace(1, n)]\n",
    "error_lst = [solve_with_rank_r(A_approx, y_appox, lmbda, r) for r in rank_lst]\n",
    "plt.plot(rank_lst, error_lst)\n",
    "plt.xlabel(\"rank used for approximation\")\n",
    "plt.ylabel(\"residual error\")\n",
    "plt.savefig('problem3_plot.png', dpi=300)\n",
    "plt.show()"
   ]
  }
 ],
 "metadata": {
  "kernelspec": {
   "display_name": "Python 3",
   "language": "python",
   "name": "python3"
  },
  "language_info": {
   "codemirror_mode": {
    "name": "ipython",
    "version": 3
   },
   "file_extension": ".py",
   "mimetype": "text/x-python",
   "name": "python",
   "nbconvert_exporter": "python",
   "pygments_lexer": "ipython3",
   "version": "3.6.5"
  }
 },
 "nbformat": 4,
 "nbformat_minor": 2
}
