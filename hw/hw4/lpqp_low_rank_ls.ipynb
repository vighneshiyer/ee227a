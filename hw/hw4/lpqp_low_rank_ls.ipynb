{
 "cells": [
  {
   "cell_type": "markdown",
   "metadata": {},
   "source": [
    "# Exact low rank data "
   ]
  },
  {
   "cell_type": "markdown",
   "metadata": {},
   "source": [
    "This is the template code to get you started. You should fill out the code for 2 places:\n",
    "1. direct_solver\n",
    "2. low_rank_solver\n",
    "\n",
    "Feel help to write any additional functions and helper code. Note that the data matrix is a 1000 by 1000 matrix with rank 10."
   ]
  },
  {
   "cell_type": "code",
   "execution_count": null,
   "metadata": {
    "collapsed": true
   },
   "outputs": [],
   "source": [
    "import numpy as np\n",
    "import scipy.io as sio"
   ]
  },
  {
   "cell_type": "code",
   "execution_count": null,
   "metadata": {
    "collapsed": true
   },
   "outputs": [],
   "source": [
    "def rank_decompose(A, r):\n",
    "    U, s, Vh = np.linalg.svd(A, full_matrices=False)\n",
    "    return U[:,:r], s[:r], Vh[:r, :]\n",
    "\n",
    "data = sio.loadmat('low_rank_mtx.mat')\n",
    "A = data['predictors']\n",
    "y = data['responses'].T\n",
    "lmbda = data['penalty_param']\n",
    "\n",
    "m, n = A.shape\n",
    "\n",
    "U, s, Vh = rank_decompose(A, np.linalg.matrix_rank(A))\n",
    "L = U * s\n",
    "R = Vh.T"
   ]
  },
  {
   "cell_type": "code",
   "execution_count": null,
   "metadata": {
    "collapsed": true
   },
   "outputs": [],
   "source": [
    "def direct_solver(A, y, lmbda):\n",
    "    '''\n",
    "    Takes in the data matrix A and vector y, scalar lmbda\n",
    "    and returns the minimizer for the regularized LS problem\n",
    "    '''\n",
    "    # your implementation here\n",
    "    pass"
   ]
  },
  {
   "cell_type": "code",
   "execution_count": null,
   "metadata": {
    "collapsed": true
   },
   "outputs": [],
   "source": [
    "def low_rank_solver(L, R, y, lmbda):\n",
    "    '''\n",
    "    Takes in the matrices L and R, with LR^T = A, scalar lmbda,\n",
    "    and vector y, and returns the minimizer for the low rank\n",
    "    regularized LS problem\n",
    "    '''\n",
    "    # your implementation here\n",
    "    pass"
   ]
  },
  {
   "cell_type": "code",
   "execution_count": null,
   "metadata": {
    "collapsed": true
   },
   "outputs": [],
   "source": [
    "# compare their runtime\n",
    "print('Direct solver:')\n",
    "%time soln_direct = direct_solver(A, y, lmbda)\n",
    "\n",
    "print('\\nLow rank solver')\n",
    "%time soln_low_rank = low_rank_solver(L, R, y, lmbda)"
   ]
  },
  {
   "cell_type": "code",
   "execution_count": null,
   "metadata": {
    "collapsed": true
   },
   "outputs": [],
   "source": [
    "# check their solutions to be the same (less than 1e-5 is great !)\n",
    "np.median(np.abs(soln_direct - soln_low_rank) / np.abs(soln_direct))"
   ]
  },
  {
   "cell_type": "markdown",
   "metadata": {},
   "source": [
    "# Approximate low rank data"
   ]
  },
  {
   "cell_type": "markdown",
   "metadata": {},
   "source": [
    "For this part, fill out solve_with_rank_r to solve the regularized least square problem by approximating the data matrix with various low rank matrix. Then plot the ranks against the squared error."
   ]
  },
  {
   "cell_type": "code",
   "execution_count": null,
   "metadata": {},
   "outputs": [],
   "source": [
    "from scipy.stats import ortho_group\n",
    "import matplotlib.pyplot as plt\n",
    "import math\n",
    "import scipy.io as sio\n",
    "import numpy as np\n",
    "import time\n",
    "%matplotlib inline"
   ]
  },
  {
   "cell_type": "code",
   "execution_count": null,
   "metadata": {},
   "outputs": [],
   "source": [
    "# load in the prepared data\n",
    "data = sio.loadmat('low_rank_mtx.mat')\n",
    "A_approx = data['approx_mtx']\n",
    "n = A_approx.shape[0]\n",
    "y_appox = data['approx_responses'].T\n",
    "lmbda = data['penalty_param'][0][0]"
   ]
  },
  {
   "cell_type": "code",
   "execution_count": null,
   "metadata": {},
   "outputs": [],
   "source": [
    "def error_fn(A, x, y, lmbda):\n",
    "    return np.linalg.norm(A @ x - y)**2 + lmbda * np.linalg.norm(x)**2\n",
    "\n",
    "def rank_decompose(A, r):\n",
    "    U, s, Vh = np.linalg.svd(A, full_matrices=False)\n",
    "    return U[:,:r], s[:r], Vh[:r, :]\n",
    "\n",
    "def rank_decompose_LR(A, r):\n",
    "    U, s, Vh = rank_decompose(A, r)\n",
    "    return U * s, Vh"
   ]
  },
  {
   "cell_type": "code",
   "execution_count": null,
   "metadata": {},
   "outputs": [],
   "source": [
    "def solve_with_rank_r(A, y, lmbda, r):\n",
    "\n",
    "    # decompose A\n",
    "    L, RT = rank_decompose_LR(A, r)\n",
    "    R = RT.T\n",
    "    \n",
    "    #solve using reduced lr method\n",
    "    soln = low_rank_solver(L, R, y, lmbda)\n",
    "    \n",
    "    # compute error\n",
    "    error = error_fn(A, soln, y, lmbda)\n",
    "    \n",
    "    return error"
   ]
  },
  {
   "cell_type": "code",
   "execution_count": null,
   "metadata": {},
   "outputs": [],
   "source": [
    "rank_lst = [int(i) for i in np.linspace(1, n)]\n",
    "error_lst = [solve_with_rank_r(A_approx, y_appox, lmbda, r) for r in rank_lst]\n",
    "plt.plot(rank_lst, error_lst)\n",
    "plt.xlabel(\"rank used for approximation\")\n",
    "plt.ylabel(\"residual error\")\n",
    "plt.show()"
   ]
  }
 ],
 "metadata": {
  "kernelspec": {
   "display_name": "Python 3",
   "language": "python",
   "name": "python3"
  },
  "language_info": {
   "codemirror_mode": {
    "name": "ipython",
    "version": 3
   },
   "file_extension": ".py",
   "mimetype": "text/x-python",
   "name": "python",
   "nbconvert_exporter": "python",
   "pygments_lexer": "ipython3",
   "version": "3.5.2"
  }
 },
 "nbformat": 4,
 "nbformat_minor": 2
}
