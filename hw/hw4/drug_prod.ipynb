{
 "cells": [
  {
   "cell_type": "markdown",
   "metadata": {},
   "source": [
    "# Drug Production"
   ]
  },
  {
   "cell_type": "code",
   "execution_count": null,
   "metadata": {
    "collapsed": true
   },
   "outputs": [],
   "source": [
    "import numpy as np\n",
    "from scipy.io import loadmat\n",
    "from operator import itemgetter\n",
    "import matplotlib.pyplot as plt\n",
    "%matplotlib inline"
   ]
  },
  {
   "cell_type": "code",
   "execution_count": null,
   "metadata": {
    "collapsed": false
   },
   "outputs": [],
   "source": [
    "mat = loadmat('cost_vec_data2.mat')\n",
    "A, b, c_hat, rho, deltaC = itemgetter('A', 'b', 'c', 'rho', 'deltaC')(mat)\n",
    "b, c_hat, rho = b[0], c_hat[0], rho[0][0]"
   ]
  },
  {
   "cell_type": "markdown",
   "metadata": {},
   "source": [
    "## Part 1"
   ]
  },
  {
   "cell_type": "code",
   "execution_count": null,
   "metadata": {
    "collapsed": false
   },
   "outputs": [],
   "source": [
    "def solve_nominal(A, b, c_hat):\n",
    "    \"\"\"\n",
    "    Solves the nominal optimization problem which ignores uncertainty in c.\n",
    "    \n",
    "    Returns:\n",
    "        x_nom: The nominal solution\n",
    "        cost_nom: The cost of the nominal solution\n",
    "    \"\"\"\n",
    "    x_nom = None\n",
    "    cost_nom = None\n",
    "    # TODO: compute x_nom and cost_nom\n",
    "    return x_nom, cost_nom"
   ]
  },
  {
   "cell_type": "code",
   "execution_count": null,
   "metadata": {
    "collapsed": true
   },
   "outputs": [],
   "source": [
    "def worst_cost(x, c_hat, rho, deltaC):\n",
    "    \"\"\"\n",
    "    Computes the worst case cost of a decision x.\n",
    "    \n",
    "    Returns:\n",
    "        The worst case cost\n",
    "    \"\"\"\n",
    "    cost_worst = None\n",
    "    # TODO: compute cost_worst\n",
    "    return cost_worst"
   ]
  },
  {
   "cell_type": "code",
   "execution_count": null,
   "metadata": {
    "collapsed": false
   },
   "outputs": [],
   "source": [
    "x_nom, cost_nom = solve_nominal(A, b, c_hat)\n",
    "print('x_nom:\\n{}'.format(x_nom))\n",
    "print('profit_nom: {}'.format(-1. * cost_nom))\n",
    "print('worst_profit: {}'.format(-1. * worst_cost(x_nom, c_hat, rho, deltaC)))"
   ]
  },
  {
   "cell_type": "markdown",
   "metadata": {},
   "source": [
    "## Part 2"
   ]
  },
  {
   "cell_type": "code",
   "execution_count": null,
   "metadata": {
    "collapsed": true
   },
   "outputs": [],
   "source": [
    "def solve_robust(A, b, c_hat, rho, deltaC):\n",
    "    \"\"\"\n",
    "    Solves the robust optimization problem which considers uncertainty in c.\n",
    "    \n",
    "    Returns:\n",
    "        x_rob: The robust solution\n",
    "        cost_rob: The cost of the robust solution\n",
    "    \"\"\"\n",
    "    x_rob = None\n",
    "    cost_rob = None\n",
    "    # TODO: compute x_rob and cost_rob\n",
    "    return x_rob, cost_rob"
   ]
  },
  {
   "cell_type": "code",
   "execution_count": null,
   "metadata": {
    "collapsed": false
   },
   "outputs": [],
   "source": [
    "x_rob, cost_rob = solve_robust(A, b, c_hat, rho, deltaC)\n",
    "print('x_rob:\\n{}'.format(x_rob))\n",
    "print('profit_rob: {}'.format(-1. * cost_rob))"
   ]
  },
  {
   "cell_type": "markdown",
   "metadata": {},
   "source": [
    "## Part 3"
   ]
  },
  {
   "cell_type": "code",
   "execution_count": null,
   "metadata": {
    "collapsed": true
   },
   "outputs": [],
   "source": [
    "rhos = np.linspace(0.03, 0.09, 200)\n",
    "profits = None\n",
    "# TODO: compute array of profits corresponding to each rho in rhos"
   ]
  },
  {
   "cell_type": "code",
   "execution_count": null,
   "metadata": {
    "collapsed": false
   },
   "outputs": [],
   "source": [
    "plt.figure()\n",
    "plt.title('Profit vs. rho')\n",
    "plt.plot(rhos, profits)\n",
    "plt.xlim(0.03, 0.09)\n",
    "plt.ylim(-1000, 6000)\n",
    "plt.show()\n",
    "plt.close()"
   ]
  }
 ],
 "metadata": {
  "kernelspec": {
   "display_name": "Python 2",
   "language": "python",
   "name": "python2"
  },
  "language_info": {
   "codemirror_mode": {
    "name": "ipython",
    "version": 2
   },
   "file_extension": ".py",
   "mimetype": "text/x-python",
   "name": "python",
   "nbconvert_exporter": "python",
   "pygments_lexer": "ipython2",
   "version": "2.7.6"
  }
 },
 "nbformat": 4,
 "nbformat_minor": 1
}
