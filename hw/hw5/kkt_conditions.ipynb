{
 "cells": [
  {
   "cell_type": "markdown",
   "metadata": {},
   "source": [
    "# KKT Conditions\n",
    "\n",
    "In this exercise, we will solve our quadratic optimization problem with the bisection algorithm and compare the method to the quadratic solver of CVX (or another optimizer of your choice). Although throughout the problem we refer to the CVX optimizer, you are free to replace CVX with another solver of your choice."
   ]
  },
  {
   "cell_type": "code",
   "execution_count": null,
   "metadata": {
    "collapsed": true
   },
   "outputs": [],
   "source": [
    "import numpy as np\n",
    "import time\n",
    "from operator import itemgetter"
   ]
  },
  {
   "cell_type": "code",
   "execution_count": null,
   "metadata": {
    "collapsed": true
   },
   "outputs": [],
   "source": [
    "data = np.load('data.npz')\n",
    "d, r, a = itemgetter('d', 'r', 'a')(data)"
   ]
  },
  {
   "cell_type": "markdown",
   "metadata": {},
   "source": [
    "### Solve with CVX"
   ]
  },
  {
   "cell_type": "code",
   "execution_count": null,
   "metadata": {
    "collapsed": true
   },
   "outputs": [],
   "source": [
    "def solve_cvx(d, r, a):\n",
    "    \"\"\"\n",
    "    Solve the quadratic program\n",
    "    \n",
    "    min_x   1/2 * x^T D x + r^T x\n",
    "     s.t.   -1 <= x <= 1\n",
    "            a^T x = 1\n",
    "            \n",
    "    using an optimizer of your choice (CVXOpt, CVXPy, scipy.optimize, etc.)\n",
    "    \n",
    "    Args:\n",
    "        d (numpy.ndarray): the values that form the diagonal entries of the D matrix\n",
    "        r (numpy.ndarray): the values that form the r vector\n",
    "        a (numpy.ndarray): the values that form the a vector\n",
    "    \n",
    "    Returns:\n",
    "        the optimal solution, x_opt\n",
    "        the objective value, obj_val\n",
    "    \"\"\"\n",
    "    x_opt = None\n",
    "    obj_val = None\n",
    "    # TODO: compute x_opt and obj_val using CVX\n",
    "    return x_opt, obj_val"
   ]
  },
  {
   "cell_type": "code",
   "execution_count": null,
   "metadata": {
    "collapsed": false
   },
   "outputs": [],
   "source": [
    "start = time.time()\n",
    "x_opt_cvx, obj_val_cvx = solve_cvx(d, r, a)\n",
    "end = time.time()\n",
    "solve_time_cvx = end - start\n",
    "print('CVX objective value: {}'.format(obj_val_cvx))\n",
    "print('CVX solve time: {}'.format(solve_time_cvx))"
   ]
  },
  {
   "cell_type": "markdown",
   "metadata": {},
   "source": [
    "### Solve with bisection"
   ]
  },
  {
   "cell_type": "code",
   "execution_count": null,
   "metadata": {
    "collapsed": true
   },
   "outputs": [],
   "source": [
    "def solve_bisection(d, r, a, mu_l=-100., mu_r=100., eps=1e-6):\n",
    "    \"\"\"\n",
    "    Solve the quadratic program\n",
    "    \n",
    "    min_x   1/2 * x^T D x + r^T x\n",
    "     s.t.   -1 <= x <= 1\n",
    "            a^T x = 1\n",
    "            \n",
    "    using the bisection method\n",
    "    \n",
    "    Args:\n",
    "        d (numpy.ndarray): the values that form the diagonal entries of the D matrix\n",
    "        r (numpy.ndarray): the values that form the r vector\n",
    "        a (numpy.ndarray): the values that form the a vector\n",
    "        mu_l (float): lower bound of initial interval for mu\n",
    "        mu_r (float): upper bound of initial interval for mu\n",
    "        eps (float): epsilon value for termination condition\n",
    "    \n",
    "    Returns:\n",
    "        the optimal solution, x_opt\n",
    "        the objective value, obj_val\n",
    "    \"\"\"\n",
    "    x_opt = None\n",
    "    obj_val = None\n",
    "    # TODO: compute x_opt and obj_val using the bisection method\n",
    "    return x_opt, obj_val"
   ]
  },
  {
   "cell_type": "code",
   "execution_count": null,
   "metadata": {
    "collapsed": false
   },
   "outputs": [],
   "source": [
    "start = time.time()\n",
    "x_opt_bisection, obj_val_bisection = solve_bisection(d, r, a)\n",
    "end = time.time()\n",
    "solve_time_bisection = end - start\n",
    "print('Bisection objective value: {}'.format(obj_val_bisection))\n",
    "print('Bisection solve time: {}'.format(solve_time_bisection))"
   ]
  },
  {
   "cell_type": "markdown",
   "metadata": {},
   "source": [
    "### Compare CVX and bisection algorithm"
   ]
  },
  {
   "cell_type": "code",
   "execution_count": null,
   "metadata": {
    "collapsed": false
   },
   "outputs": [],
   "source": [
    "euclidean_distance = np.linalg.norm(x_opt_bisection - x_opt_cvx)\n",
    "solve_time_ratio = solve_time_cvx / solve_time_bisection"
   ]
  },
  {
   "cell_type": "code",
   "execution_count": null,
   "metadata": {
    "collapsed": false
   },
   "outputs": [],
   "source": [
    "print('CVX objective value: {}'.format(obj_val_cvx))\n",
    "print('Bisection objective value: {}'.format(obj_val_bisection))\n",
    "print('CVX solve time: {}'.format(solve_time_cvx))\n",
    "print('Bisection solve time: {}'.format(solve_time_bisection))\n",
    "print('Euclidean distance between CVX solution and bisection solution: {}'.format(euclidean_distance))\n",
    "print('Ratio of cxv solve time to bisection solve time: {}'.format(solve_time_ratio))"
   ]
  }
 ],
 "metadata": {
  "anaconda-cloud": {},
  "kernelspec": {
   "display_name": "Python 2",
   "language": "python",
   "name": "python2"
  },
  "language_info": {
   "codemirror_mode": {
    "name": "ipython",
    "version": 2
   },
   "file_extension": ".py",
   "mimetype": "text/x-python",
   "name": "python",
   "nbconvert_exporter": "python",
   "pygments_lexer": "ipython2",
   "version": "2.7.6"
  }
 },
 "nbformat": 4,
 "nbformat_minor": 1
}
