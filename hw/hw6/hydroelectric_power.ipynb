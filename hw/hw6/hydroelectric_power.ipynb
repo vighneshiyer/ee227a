{
 "cells": [
  {
   "cell_type": "markdown",
   "metadata": {},
   "source": [
    "# Hydroelectric Power Generation"
   ]
  },
  {
   "cell_type": "code",
   "execution_count": 124,
   "metadata": {},
   "outputs": [
    {
     "name": "stdout",
     "output_type": "stream",
     "text": [
      "Once deleted, variables cannot be recovered. Proceed (y/[n])? y\n"
     ]
    }
   ],
   "source": [
    "%reset\n",
    "import numpy as np\n",
    "import cvxpy as cvx"
   ]
  },
  {
   "cell_type": "markdown",
   "metadata": {},
   "source": [
    "## Part 1"
   ]
  },
  {
   "cell_type": "code",
   "execution_count": 125,
   "metadata": {},
   "outputs": [],
   "source": [
    "K = 3\n",
    "L = 2\n",
    "J = 3\n",
    "w_l = np.array([20, 15])\n",
    "lam = np.array([10, 30, 8])\n",
    "rho = np.array([30./47, 43./58, 50./72])\n",
    "V_0 = np.array([120, 130])\n",
    "V_min = np.zeros((L, K))\n",
    "V_max = np.array([[95000, 95000, 95000], [11000, 11000, 11000]])\n",
    "A = np.array([[15, 15, 15], [12, 12, 12]])\n",
    "T_max = np.array([[55, 55, 55], [65, 65, 65], [80, 80, 80]])\n",
    "T_min = np.zeros((J, K))"
   ]
  },
  {
   "cell_type": "code",
   "execution_count": 126,
   "metadata": {},
   "outputs": [],
   "source": [
    "def solve(K, L, J, w_l, lam, rho, V_0, V_min, V_max, A, T_min, T_max):\n",
    "    \"\"\"Solve the optimization problem described in part 1 using a solver of your choice.\n",
    "    \n",
    "    Args:\n",
    "        K (int): number of timestesp\n",
    "        L (int): number of reservoirs\n",
    "        J (int): number of turbines\n",
    "        etc.\n",
    "    \n",
    "    Returns:\n",
    "        the optimal water volumes, T_opt\n",
    "        the optimal objective value, obj_val\n",
    "    \"\"\"\n",
    "    rho_tiled = np.reshape(np.repeat(rho, K), (J, K))\n",
    "    lam_tiled = np.tile(lam, (J, 1))\n",
    "    rho_lam = np.multiply(rho_tiled, lam_tiled)\n",
    "    V = cvx.Variable((L,K))\n",
    "    T = cvx.Variable((J,K))\n",
    "    obj = cvx.Minimize(V[:,0] * w_l - V[:,K-1] * w_l - cvx.sum(cvx.multiply(rho_lam, T)))\n",
    "    constraints = [T >= np.zeros((J,K)), T <= T_max, V >= V_min, V <= V_max,\n",
    "                   V[0, 0] == V_0[0] + A[0, 0] - (T[0, 0] + T[1, 0]),\n",
    "                   V[1, 0] == V_0[1] + A[1, 0] + (T[0, 0] + T[1, 0]) - T[2, 0],\n",
    "                   V[0, 1] == V[0, 0] + A[0, 1] - (T[0, 1] + T[1, 1]),\n",
    "                   V[1, 1] == V[1, 0] + A[1, 1] + (T[0, 1] + T[1, 1]) - T[2, 1],\n",
    "                   V[0, 2] == V[0, 1] + A[0, 2] - (T[0, 2] + T[1, 2]),\n",
    "                   V[1, 2] == V[1, 1] + A[1, 2] + (T[0, 2] + T[1, 2]) - T[2, 2]\n",
    "                  ]\n",
    "    prob = cvx.Problem(obj, constraints)\n",
    "    prob.solve()  # Returns the optimal value.\n",
    "    obj_val = prob.value\n",
    "    T_opt = np.array(T.value)\n",
    "    return T_opt, obj_val"
   ]
  },
  {
   "cell_type": "code",
   "execution_count": 127,
   "metadata": {
    "scrolled": true
   },
   "outputs": [
    {
     "name": "stdout",
     "output_type": "stream",
     "text": [
      "Optimal value:\n",
      "-4117.4826773\n",
      "\n",
      "Optimal water volumes, T_opt:\n",
      "[[ 0. 55.  0.]\n",
      " [30. 65. 15.]\n",
      " [80. 80. -0.]]\n"
     ]
    }
   ],
   "source": [
    "# Solve the optimization problem\n",
    "T_opt, obj_val = solve(K, L, J, w_l, lam, rho, V_0, V_min, V_max, A, T_min, T_max)\n",
    "\n",
    "# Round values for readability (optional)\n",
    "obj_val = np.around(obj_val, decimals=7)\n",
    "T_opt = np.around(T_opt, decimals=0)\n",
    "\n",
    "# Print results\n",
    "print(\"Optimal value:\\n{}\\n\".format(obj_val))\n",
    "print(\"Optimal water volumes, T_opt:\\n{}\".format(T_opt))"
   ]
  },
  {
   "cell_type": "markdown",
   "metadata": {},
   "source": [
    "## Part 2 (Don't forget to re-initialize variables!)"
   ]
  },
  {
   "cell_type": "code",
   "execution_count": 177,
   "metadata": {},
   "outputs": [],
   "source": [
    "K = 3\n",
    "L = 2\n",
    "J = 3\n",
    "w_l = np.array([20, 15])\n",
    "lam = np.array([12, 30, 4])\n",
    "rho = np.array([30./47, 43./58, 50./72])\n",
    "V_0 = np.array([120, 130])\n",
    "V_min = np.zeros((L, K))\n",
    "V_max = np.array([[95000, 95000, 95000], [11000, 11000, 11000]])\n",
    "A = np.array([[15, 15, 15], [12, 12, 12]])\n",
    "T_min = np.zeros((J, K))\n",
    "T_max = np.array([[55, 55, 55], [65, 65, 65], [80, 80, 80]])"
   ]
  },
  {
   "cell_type": "code",
   "execution_count": 263,
   "metadata": {},
   "outputs": [],
   "source": [
    "def solve_regularized(K, L, J, T_hat, w_l, lam, rho, V_0, V_min, V_max, A, T_min, T_max, gamma):\n",
    "    \"\"\"Solve the optimization problem described in part 2 using a solver of your choice.\n",
    "    \n",
    "    Args:\n",
    "        T_hat (numpy.ndarray): optimal solution T_opt from part 1\n",
    "        gamma (float): regularization multiplier\n",
    "        (remaining variables have same description as in part 1)\n",
    "    \n",
    "    Returns:\n",
    "        the optimal water volumes, T_opt_reg\n",
    "        the optimal objective value, obj_val_reg\n",
    "    \"\"\"\n",
    "    rho_tiled = np.reshape(np.repeat(rho, K), (J, K))\n",
    "    lam_tiled = np.tile(lam, (J, 1))\n",
    "    rho_lam = np.multiply(rho_tiled, lam_tiled)\n",
    "    V = cvx.Variable((L,K))\n",
    "    T = cvx.Variable((J,K))\n",
    "    obj = cvx.Minimize(V[:,0] * w_l - V[:,K-1] * w_l - cvx.sum(cvx.multiply(rho_lam, T)) +\n",
    "                       gamma * cvx.sum(\n",
    "                           [cvx.max(cvx.abs(T[j] - T_hat[j])) for j in range(J)]\n",
    "                       ))\n",
    "    constraints = [T >= np.zeros((J,K)), T <= T_max, V >= V_min, V <= V_max,\n",
    "                   V[0, 0] == V_0[0] + A[0, 0] - (T[0, 0] + T[1, 0]),\n",
    "                   V[1, 0] == V_0[1] + A[1, 0] + (T[0, 0] + T[1, 0]) - T[2, 0],\n",
    "                   V[0, 1] == V[0, 0] + A[0, 1] - (T[0, 1] + T[1, 1]),\n",
    "                   V[1, 1] == V[1, 0] + A[1, 1] + (T[0, 1] + T[1, 1]) - T[2, 1],\n",
    "                   V[0, 2] == V[0, 1] + A[0, 2] - (T[0, 2] + T[1, 2]),\n",
    "                   V[1, 2] == V[1, 1] + A[1, 2] + (T[0, 2] + T[1, 2]) - T[2, 2]\n",
    "                  ]\n",
    "    prob = cvx.Problem(obj, constraints)\n",
    "    prob.solve()  # Returns the optimal value.\n",
    "    obj_val_reg = prob.value\n",
    "    T_opt_reg = np.array(T.value)\n",
    "    return T_opt_reg, obj_val_reg"
   ]
  },
  {
   "cell_type": "code",
   "execution_count": 265,
   "metadata": {
    "scrolled": true
   },
   "outputs": [
    {
     "name": "stdout",
     "output_type": "stream",
     "text": [
      "Optimal value:\n",
      "-4244.1110293\n",
      "\n",
      "Optimal water volumes, T_opt_reg:\n",
      "[[ 0. 55.  0.]\n",
      " [30. 65.  0.]\n",
      " [80. 80. -0.]]\n"
     ]
    }
   ],
   "source": [
    "# Solve the optimization problem\n",
    "T_opt_reg, obj_val_reg = solve_regularized(K, L, J, T_opt, w_l, lam, rho, V_0, V_min, V_max, A, T_min, T_max, gamma=np.power(10, 0, dtype=np.float32))\n",
    "\n",
    "# Round values for readability (optional)\n",
    "obj_val_reg = np.around(obj_val_reg, decimals=7)\n",
    "T_opt_reg = np.around(T_opt_reg, decimals=0)\n",
    "\n",
    "# Print results\n",
    "print(\"Optimal value:\\n{}\\n\".format(obj_val_reg))\n",
    "print(\"Optimal water volumes, T_opt_reg:\\n{}\".format(T_opt_reg))"
   ]
  }
 ],
 "metadata": {
  "kernelspec": {
   "display_name": "Python 3",
   "language": "python",
   "name": "python3"
  },
  "language_info": {
   "codemirror_mode": {
    "name": "ipython",
    "version": 3
   },
   "file_extension": ".py",
   "mimetype": "text/x-python",
   "name": "python",
   "nbconvert_exporter": "python",
   "pygments_lexer": "ipython3",
   "version": "3.6.5"
  }
 },
 "nbformat": 4,
 "nbformat_minor": 2
}
