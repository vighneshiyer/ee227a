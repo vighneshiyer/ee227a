{
 "cells": [
  {
   "cell_type": "markdown",
   "metadata": {},
   "source": [
    "# Hydroelectric Power Generation"
   ]
  },
  {
   "cell_type": "code",
   "execution_count": null,
   "metadata": {},
   "outputs": [],
   "source": [
    "import numpy as np\n",
    "import cvxpy as cvx"
   ]
  },
  {
   "cell_type": "markdown",
   "metadata": {},
   "source": [
    "## Part 1"
   ]
  },
  {
   "cell_type": "code",
   "execution_count": null,
   "metadata": {},
   "outputs": [],
   "source": [
    "K = 3\n",
    "L = 2\n",
    "J = 3\n",
    "w_l = np.array([20, 15])\n",
    "lam = np.array([10, 30, 8])\n",
    "rho = np.array([30./47, 43./58, 50./72])\n",
    "V_0 = np.array([120, 130])\n",
    "V_min = np.zeros((L, K))\n",
    "V_max = np.array([[95000, 95000, 95000], [11000, 11000, 11000]])\n",
    "A = np.array([[15, 15, 15], [12, 12, 12]])\n",
    "T_max = np.array([[55, 55, 55], [65, 65, 65], [80, 80, 80]])\n",
    "T_min = np.zeros((J, K))"
   ]
  },
  {
   "cell_type": "code",
   "execution_count": null,
   "metadata": {},
   "outputs": [],
   "source": [
    "def solve(K, L, J, w_l, lam, rho, V_0, V_min, V_max, A, T_min, T_max):\n",
    "    \"\"\"Solve the optimization problem described in part 1 using a solver of your choice.\n",
    "    \n",
    "    Args:\n",
    "        K (int): number of timestesp\n",
    "        L (int): number of reservoirs\n",
    "        J (int): number of turbines\n",
    "        etc.\n",
    "    \n",
    "    Returns:\n",
    "        the optimal water volumes, T_opt\n",
    "        the optimal objective value, obj_val\n",
    "    \"\"\"\n",
    "    # TODO: your implementation here\n",
    "    T_opt = none\n",
    "    obj_val = None\n",
    "    return T_opt, obj_val"
   ]
  },
  {
   "cell_type": "code",
   "execution_count": null,
   "metadata": {
    "scrolled": true
   },
   "outputs": [],
   "source": [
    "# Solve the optimization problem\n",
    "T_opt, obj_val = solve(K, L, J, w_l, lam, rho, V_0, V_min, V_max, A, T_min, T_max)\n",
    "\n",
    "# Round values for readability (optional)\n",
    "obj_val = np.around(obj_val, decimals=7)\n",
    "T_opt = np.around(T_opt, decimals=0)\n",
    "\n",
    "# Print results\n",
    "print(\"Optimal value:\\n{}\\n\".format(obj_val))\n",
    "print(\"Optimal water volumes, T_opt:\\n{}\".format(T_opt))"
   ]
  },
  {
   "cell_type": "markdown",
   "metadata": {},
   "source": [
    "## Part 2 (Don't forget to re-initialize variables!)"
   ]
  },
  {
   "cell_type": "code",
   "execution_count": null,
   "metadata": {},
   "outputs": [],
   "source": [
    "K = 3\n",
    "L = 2\n",
    "J = 3\n",
    "w_l = np.array([20, 15])\n",
    "lam = np.array([12, 30, 4])\n",
    "rho = np.array([30./47, 43./58, 50./72])\n",
    "V_0 = np.array([120, 130])\n",
    "V_min = np.zeros((L, K))\n",
    "V_max = np.array([[95000, 95000, 95000], [11000, 11000, 11000]])\n",
    "A = np.array([[15, 15, 15], [12, 12, 12]])\n",
    "T_min = np.zeros((J, K))\n",
    "T_max = np.array([[55, 55, 55], [65, 65, 65], [80, 80, 80]])"
   ]
  },
  {
   "cell_type": "code",
   "execution_count": null,
   "metadata": {},
   "outputs": [],
   "source": [
    "def solve_regularized(K, L, J, T_hat, w_l, lam, rho, V_0, V_min, V_max, A, T_min, T_max, gamma):\n",
    "    \"\"\"Solve the optimization problem described in part 2 using a solver of your choice.\n",
    "    \n",
    "    Args:\n",
    "        T_hat (numpy.ndarray): optimal solution T_opt from part 1\n",
    "        gamma (float): regularization multiplier\n",
    "        (remaining variables have same description as in part 1)\n",
    "    \n",
    "    Returns:\n",
    "        the optimal water volumes, T_opt_reg\n",
    "        the optimal objective value, obj_val_reg\n",
    "    \"\"\"\n",
    "    # TODO: your implementation here\n",
    "    T_opt_reg = None\n",
    "    obj_val_reg = None\n",
    "    return T_opt_reg, obj_val_reg"
   ]
  },
  {
   "cell_type": "code",
   "execution_count": null,
   "metadata": {
    "scrolled": true
   },
   "outputs": [],
   "source": [
    "# Solve the optimization problem\n",
    "T_opt_reg, obj_val_reg = solve_regularized(K, L, J, T_opt, w_l, lam, rho, V_0, V_min, V_max, A, T_min, T_max, gamma=np.power(10, 10, dtype=np.float32))\n",
    "\n",
    "# Round values for readability (optional)\n",
    "obj_val_reg = np.around(obj_val_reg, decimals=7)\n",
    "T_opt_reg = np.around(T_opt_reg, decimals=0)\n",
    "\n",
    "# Print results\n",
    "print(\"Optimal value:\\n{}\\n\".format(obj_val_reg))\n",
    "print(\"Optimal water volumes, T_opt_reg:\\n{}\".format(T_opt_reg))"
   ]
  }
 ],
 "metadata": {
  "kernelspec": {
   "display_name": "Python 3",
   "language": "python",
   "name": "python3"
  },
  "language_info": {
   "codemirror_mode": {
    "name": "ipython",
    "version": 3
   },
   "file_extension": ".py",
   "mimetype": "text/x-python",
   "name": "python",
   "nbconvert_exporter": "python",
   "pygments_lexer": "ipython3",
   "version": "3.6.6"
  }
 },
 "nbformat": 4,
 "nbformat_minor": 2
}
