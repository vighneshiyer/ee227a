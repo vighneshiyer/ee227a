{
 "cells": [
  {
   "cell_type": "markdown",
   "metadata": {},
   "source": [
    "## PCA and Senate Voting Data\n"
   ]
  },
  {
   "cell_type": "markdown",
   "metadata": {},
   "source": [
    "We return to the Senate voting data examined in HW1, with $X$ the $m \\times n$ data matrix, where each row corresponds to a Senator, and each column to a bill. In the written solutions, we derive that our objective, maximizing the variance of $(f(x)$ is equivalent to\n",
    "\n",
    "$$\\max_{a \\::\\: a^Ta =1} \\: \\frac{1}{n} a^T(X^TX - \\mu_x \\mu_x^T)a$$\n",
    "\n",
    "We will proceed to compute and analyze the senator data accordingly"
   ]
  },
  {
   "cell_type": "code",
   "execution_count": null,
   "metadata": {},
   "outputs": [],
   "source": [
    "# Import the necessary packages for data manipulation, computation and PCA \n",
    "import pandas as pd\n",
    "import numpy as np\n",
    "import scipy as sp\n",
    "import matplotlib.pyplot as plt\n",
    "from sklearn.decomposition import PCA\n",
    "%matplotlib inline"
   ]
  },
  {
   "cell_type": "code",
   "execution_count": null,
   "metadata": {},
   "outputs": [],
   "source": [
    "senator_df =  pd.read_csv('senator_data_pca/data_matrix.csv')\n",
    "affiliation_file = open(\"senator_data_pca/politician_labels.txt\", \"r\")\n",
    "affiliations = [line.split('\\n')[0].split(' ')[1] for line in affiliation_file.readlines()]\n",
    "X = np.array(senator_df.values[:, 3:].T, dtype='float64') #transpose to get senators as rows"
   ]
  },
  {
   "cell_type": "markdown",
   "metadata": {},
   "source": [
    "The data matrix we are interested in is \n",
    "$$\\overline{X} =  a^T(\\frac{1}{n}X^TX - \\mu_x \\mu_x^T)a$$\n",
    "So we will compute that, and use scipy to compute its PCA"
   ]
  },
  {
   "cell_type": "code",
   "execution_count": null,
   "metadata": {},
   "outputs": [],
   "source": [
    "n = len(X)\n",
    "mu_x = X.mean(axis=0, dtype='float64').reshape(X.shape[1], 1)\n",
    "X_bar = 1/n*(X.T @ X) - mu_x @ mu_x.T\n",
    "pca = PCA()\n",
    "pca.fit(X_bar)\n",
    "a_1 = pca.components_[0] # This is the first principal vector/axis "
   ]
  },
  {
   "cell_type": "code",
   "execution_count": null,
   "metadata": {},
   "outputs": [],
   "source": [
    "def f(a, b, senators):\n",
    "    data = []\n",
    "    for senator in senators: \n",
    "        data.append(a.T @ senator + b)\n",
    "    return np.array(data)\n",
    "# We will retrieve the scores for each senator and make sure that for all values of b, the variance is in fact the same\n",
    "a_1_scores = f(a_1, 0, X)\n",
    "f(a_1, 0, X).var()"
   ]
  },
  {
   "cell_type": "markdown",
   "metadata": {},
   "source": [
    "#### Comparing variances"
   ]
  },
  {
   "cell_type": "markdown",
   "metadata": {},
   "source": [
    "In the written solutions we found that if $a = \\mu_x$, then b = $-\\mu_x^T\\mu_x$, and the variance is \n",
    "\n",
    "\n",
    "$$ \\mu_x^T (\\frac{1}{n}X^TX - \\mu_x \\mu_x^T)\\mu_x$$\n"
   ]
  },
  {
   "cell_type": "code",
   "execution_count": null,
   "metadata": {},
   "outputs": [],
   "source": [
    "b = -mu_x.T @ mu_x\n",
    "a = mu_x\n",
    "scores = f(a, b, X)\n",
    "scores.var()/np.linalg.norm(mu_x)"
   ]
  },
  {
   "cell_type": "code",
   "execution_count": null,
   "metadata": {},
   "outputs": [],
   "source": [
    "scores.mean()"
   ]
  },
  {
   "cell_type": "markdown",
   "metadata": {},
   "source": [
    "We can see that mean of the scores is extremely close to 0, and that the variance is 134.55 (which has to be normalized to be compared to the first principal component. Let us visualize the scores of each senators (using a = $\\mu_x$) according to party affilitations"
   ]
  },
  {
   "cell_type": "code",
   "execution_count": null,
   "metadata": {},
   "outputs": [],
   "source": [
    "plt.title('Score for a_1')\n",
    "plt.scatter(a_1_scores, np.zeros_like(a_1_scores), c=affiliations)"
   ]
  },
  {
   "cell_type": "markdown",
   "metadata": {},
   "source": [
    "We can see that majority of the blue is close to one side of the axis and red is close to the other side. This also shows that senators tend to stick closer to the means of their political parties in their voting"
   ]
  },
  {
   "cell_type": "markdown",
   "metadata": {},
   "source": [
    "#### Total Variance"
   ]
  },
  {
   "cell_type": "markdown",
   "metadata": {},
   "source": [
    "We have shown that the the total variance explained by the first two principal component is $\\lambda_1 +\\lambda_2$, where $\\lambda_i$ corresponds to the eigenvector of $\\overline{X}$, $a_i$ \n",
    "$$\\overline{X}a_i = \\lambda_i a_i$$\n",
    "\n",
    "Hence we will find the two highest eigenvalues of $\\overline{X}$"
   ]
  },
  {
   "cell_type": "code",
   "execution_count": null,
   "metadata": {},
   "outputs": [],
   "source": [
    "eigenvals = np.linalg.eigvals(X_bar)[:2]\n",
    "eigenvals"
   ]
  },
  {
   "cell_type": "code",
   "execution_count": null,
   "metadata": {},
   "outputs": [],
   "source": [
    "eigenvals.sum()"
   ]
  },
  {
   "cell_type": "markdown",
   "metadata": {},
   "source": [
    "Above are the two highest Eigenvalues, and their sum is the total explained variance"
   ]
  },
  {
   "cell_type": "code",
   "execution_count": null,
   "metadata": {},
   "outputs": [],
   "source": [
    "pca = PCA(n_components=2)\n",
    "projected = pca.fit_transform(X)"
   ]
  },
  {
   "cell_type": "code",
   "execution_count": null,
   "metadata": {},
   "outputs": [],
   "source": [
    "plt.scatter(projected[:, 0], projected[:, 1], c=affiliations)"
   ]
  },
  {
   "cell_type": "markdown",
   "metadata": {},
   "source": [
    "## 4. \n"
   ]
  },
  {
   "cell_type": "code",
   "execution_count": null,
   "metadata": {},
   "outputs": [],
   "source": [
    "bills = senator_df['bill_type bill_name bill_ID'].values\n",
    "#a_1 sorted by absolute value. The most partisan bills will have the highest absolute value, while the more non-partisan will have a lower value\n",
    "a_sorted = np.argsort(abs(a_1))\n",
    "#most partisan\n",
    "for i in range(1, 11): \n",
    "    print(bills[a_sorted[-i]])"
   ]
  },
  {
   "cell_type": "code",
   "execution_count": null,
   "metadata": {},
   "outputs": [],
   "source": [
    "#least partisan\n",
    "for i in range(10): \n",
    "    print(bills[a_sorted[i]])"
   ]
  },
  {
   "cell_type": "code",
   "execution_count": null,
   "metadata": {},
   "outputs": [],
   "source": [
    "# We will do the same with the senators\n",
    "senators = senator_df.columns.values[3:]\n",
    "scores_sorted = np.argsort(abs(f(a_1, 0, X)))\n",
    "# Most extreme\n",
    "for i in range(1, 11): \n",
    "    print(senators[scores_sorted[-i]], affiliations[scores_sorted[-i]])"
   ]
  },
  {
   "cell_type": "code",
   "execution_count": null,
   "metadata": {},
   "outputs": [],
   "source": [
    "# Least extreme\n",
    "for i in range(1, 11): \n",
    "    print(senators[scores_sorted[i]], affiliations[scores_sorted[i]])"
   ]
  },
  {
   "cell_type": "code",
   "execution_count": null,
   "metadata": {},
   "outputs": [],
   "source": []
  }
 ],
 "metadata": {
  "kernelspec": {
   "display_name": "Python 3",
   "language": "python",
   "name": "python3"
  },
  "language_info": {
   "codemirror_mode": {
    "name": "ipython",
    "version": 3
   },
   "file_extension": ".py",
   "mimetype": "text/x-python",
   "name": "python",
   "nbconvert_exporter": "python",
   "pygments_lexer": "ipython3",
   "version": "3.5.2"
  }
 },
 "nbformat": 4,
 "nbformat_minor": 2
}
