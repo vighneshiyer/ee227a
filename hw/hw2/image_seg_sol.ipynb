{
 "cells": [
  {
   "cell_type": "markdown",
   "metadata": {},
   "source": [
    "# Generalized Eigenvalues and Image Segmentation"
   ]
  },
  {
   "cell_type": "markdown",
   "metadata": {},
   "source": [
    "In this exercise, we will implement an algorithm for image segmentation from a graph-theoretic approach. As a simplified problem, we will focus on separating the foreground of an image from its background. An image is described as a matrix  MM  of shape (N, M) whose values represent the gray scale color normalized between zero and one. Even though we restrict now to gray images, please note that the same algorithm could be easily extended to colored images."
   ]
  },
  {
   "cell_type": "code",
   "execution_count": 1,
   "metadata": {
    "collapsed": true
   },
   "outputs": [],
   "source": [
    "import numpy as np\n",
    "from scipy import misc\n",
    "import matplotlib.pyplot as plt"
   ]
  },
  {
   "cell_type": "code",
   "execution_count": 2,
   "metadata": {
    "collapsed": false
   },
   "outputs": [
    {
     "name": "stderr",
     "output_type": "stream",
     "text": [
      "/Library/Frameworks/Python.framework/Versions/3.6/lib/python3.6/site-packages/ipykernel_launcher.py:3: DeprecationWarning: `imread` is deprecated!\n",
      "`imread` is deprecated in SciPy 1.0.0, and will be removed in 1.2.0.\n",
      "Use ``imageio.imread`` instead.\n",
      "  This is separate from the ipykernel package so we can avoid doing imports until\n"
     ]
    }
   ],
   "source": [
    "# Solution to question 2.1.\n",
    "\n",
    "M = misc.imread(\"img_cup_small.png\", mode=\"L\") \n",
    "M = M / 255\n",
    "\n",
    "# Compute affinity matrix W for matrix M where W[i,j] = 1 - abs(M[xi,yi] - M[xj,yj]) \n",
    "# if pixel j is a neighbor of i and zero otherwise.\n",
    "W = np.zeros((M.shape[0] * M.shape[1], M.shape[0] * M.shape[1]))\n",
    "D = np.zeros(M.shape[0] * M.shape[1])\n",
    "for i in range(M.shape[0]):\n",
    "    for j in range(M.shape[1]):\n",
    "        # Iterate through neighbors of pixel (i, j)\n",
    "        for n_i in range(max(0, i-1), min(i+2, M.shape[0])):\n",
    "            for n_j in range(max(0, j-1), min(j+2, M.shape[1])):\n",
    "                if ((n_i, n_j) != (i, j)):\n",
    "                    d_i_j = 1 - abs(M[i][j] - M[n_i][n_j])\n",
    "                    W[M.shape[1]*i + j][M.shape[1]*n_i + n_j] = d_i_j\n",
    "                    D[M.shape[1]*i + j] += d_i_j"
   ]
  },
  {
   "cell_type": "markdown",
   "metadata": {},
   "source": [
    "Find the generalized eigenvector y for the eigenvector with the second smallest eigenvalue."
   ]
  },
  {
   "cell_type": "code",
   "execution_count": 3,
   "metadata": {
    "collapsed": false
   },
   "outputs": [],
   "source": [
    "# Solution to question 2.3.\n",
    "\n",
    "L = (np.diag(D) - W)\n",
    "D_inv_sqrt = np.diag(1. / np.sqrt(D))\n",
    "\n",
    "# Compute eigenvalue decomposition of matrix D^(-1/2) (D - W) D^(-1/2).\n",
    "u, s, vh = np.linalg.svd(D_inv_sqrt @ L @ D_inv_sqrt)\n",
    "\n",
    "# Recover second smallest eigenvector. \n",
    "eigv_2 = u[:, u.shape[1] - 1]"
   ]
  },
  {
   "cell_type": "code",
   "execution_count": 4,
   "metadata": {
    "collapsed": false
   },
   "outputs": [],
   "source": [
    "# Solution to question 2.4.\n",
    "\n",
    "# Compute median of second eigenvector.\n",
    "median = np.median(eigv_2)\n",
    "\n",
    "# Set values greater than median to 1, less than median to 0. \n",
    "segmented_labels = (eigv_2 > median).astype(int).reshape((M.shape[0], M.shape[1]))\n",
    "\n",
    "# Set values greater than zero to 1, less than zero to 0. \n",
    "segmented_labels_2 = (eigv_2 > 0).astype(int).reshape((M.shape[0], M.shape[1]))"
   ]
  },
  {
   "cell_type": "markdown",
   "metadata": {},
   "source": [
    "# Binary Image Visualization"
   ]
  },
  {
   "cell_type": "code",
   "execution_count": 5,
   "metadata": {
    "collapsed": true
   },
   "outputs": [
    {
     "data": {
      "image/png": "[encoded data removed]",
      "text/plain": [
       "<Figure size 432x288 with 1 Axes>"
      ]
     },
     "metadata": {},
     "output_type": "display_data"
    },
    {
     "data": {
      "image/png": "[encoded data removed]",
      "text/plain": [
       "<Figure size 432x288 with 1 Axes>"
      ]
     },
     "metadata": {},
     "output_type": "display_data"
    }
   ],
   "source": [
    "# Show segmentation labels. \n",
    "plt.imshow(segmented_labels)\n",
    "plt.show()\n",
    "\n",
    "# Show original image. \n",
    "plt.imshow(M)\n",
    "plt.show()"
   ]
  },
  {
   "cell_type": "code",
   "execution_count": null,
   "metadata": {
    "collapsed": true
   },
   "outputs": [],
   "source": []
  }
 ],
 "metadata": {
  "anaconda-cloud": {},
  "kernelspec": {
   "display_name": "Python 3",
   "language": "python",
   "name": "python3"
  },
  "language_info": {
   "codemirror_mode": {
    "name": "ipython",
    "version": 3
   },
   "file_extension": ".py",
   "mimetype": "text/x-python",
   "name": "python",
   "nbconvert_exporter": "python",
   "pygments_lexer": "ipython3",
   "version": "3.6.5"
  }
 },
 "nbformat": 4,
 "nbformat_minor": 2
}
