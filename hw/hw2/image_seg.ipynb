{
 "cells": [
  {
   "cell_type": "markdown",
   "metadata": {},
   "source": [
    "# Generalized Eigenvalues and Image Segmentation"
   ]
  },
  {
   "cell_type": "markdown",
   "metadata": {},
   "source": [
    "In this exercise, we will implement an algorithm for image segmentation from a graph-theoretic approach. As a simplified problem, we will focus on separating the foreground of an image from its background. An image is described as a matrix $M$ of shape (N, M) whose values represent the gray scale color normalized between zero and one. Even though we restrict now to gray images, please note that the same algorithm could be easily extended to colored images."
   ]
  },
  {
   "cell_type": "code",
   "execution_count": null,
   "metadata": {
    "collapsed": true
   },
   "outputs": [],
   "source": [
    "import numpy as np\n",
    "from scipy import misc\n",
    "import matplotlib.pyplot as plt"
   ]
  },
  {
   "cell_type": "code",
   "execution_count": 1,
   "metadata": {
    "collapsed": true
   },
   "outputs": [],
   "source": [
    "# Question 2.1\n",
    "\n",
    "M = misc.imread(\"img_cup_small.png\", mode=\"L\") \n",
    "M = M / 255\n",
    "\n",
    "# TODO: Compute affinity matrix W for matrix M where W[i,j] = 1 - abs(M[xi,yi] - M[xj,yj]) \n",
    "# if pixel j is a neighbor of i and zero otherwise\n",
    "W = np.zeros((M.shape[0] * M.shape[1], M.shape[0] * M.shape[1]))\n",
    "D = np.zeros(M.shape[0] * M.shape[1])"
   ]
  },
  {
   "cell_type": "markdown",
   "metadata": {},
   "source": [
    "Find the generalized eigenvector y for the eigenvector with the second smallest eigenvalue."
   ]
  },
  {
   "cell_type": "code",
   "execution_count": 2,
   "metadata": {
    "collapsed": true
   },
   "outputs": [],
   "source": [
    "# Question 2.3\n",
    "\n",
    "# TODO: find eigenvector y"
   ]
  },
  {
   "cell_type": "code",
   "execution_count": null,
   "metadata": {
    "collapsed": true
   },
   "outputs": [],
   "source": [
    "# Question 2.4\n",
    "\n",
    "# TODO: compute median of second eigenvector\n",
    "median = None\n",
    "\n",
    "# TODO: set values greater than median to 1, less than median to zero\n",
    "segmentation_labels = None"
   ]
  },
  {
   "cell_type": "markdown",
   "metadata": {},
   "source": [
    "# Binary Image Visualization"
   ]
  },
  {
   "cell_type": "code",
   "execution_count": null,
   "metadata": {
    "collapsed": true
   },
   "outputs": [],
   "source": [
    "# Show segmentation labels. \n",
    "plt.imshow(segmented_labels)\n",
    "plt.show()\n",
    "\n",
    "# Show original image. \n",
    "plt.imshow(M)\n",
    "plt.show()"
   ]
  }
 ],
 "metadata": {
  "anaconda-cloud": {},
  "kernelspec": {
   "display_name": "Python [default]",
   "language": "python",
   "name": "python3"
  },
  "language_info": {
   "codemirror_mode": {
    "name": "ipython",
    "version": 3
   },
   "file_extension": ".py",
   "mimetype": "text/x-python",
   "name": "python",
   "nbconvert_exporter": "python",
   "pygments_lexer": "ipython3",
   "version": "3.5.2"
  }
 },
 "nbformat": 4,
 "nbformat_minor": 1
}
